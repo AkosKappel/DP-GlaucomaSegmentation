{
 "cells": [
  {
   "cell_type": "markdown",
   "source": [
    "# Glaucoma Segmentation\n",
    "\n",
    "**Author:** Bc. Ákos Kappel\n",
    "**Year:** 2022 - 2024\n"
   ],
   "metadata": {
    "collapsed": false
   }
  },
  {
   "cell_type": "code",
   "execution_count": null,
   "metadata": {
    "collapsed": true
   },
   "outputs": [],
   "source": [
    "import albumentations as A\n",
    "import cv2 as cv\n",
    "import matplotlib.pyplot as plt\n",
    "import numpy as np\n",
    "import os\n",
    "import torch\n",
    "import torch.nn as nn\n",
    "import torch.optim as optim\n",
    "import wandb\n",
    "from albumentations.pytorch import ToTensorV2\n",
    "from functools import partial\n",
    "\n",
    "from modules import *\n",
    "from networks import *\n",
    "from training import *"
   ]
  },
  {
   "cell_type": "markdown",
   "source": [
    "## Config"
   ],
   "metadata": {
    "collapsed": false
   }
  },
  {
   "cell_type": "code",
   "execution_count": null,
   "outputs": [],
   "source": [
    "# Main\n",
    "NETWORK_NAME = 'refunet3+cbam'  # raunet++, refunet3+cbam, swinunet\n",
    "ARCHITECTURE = 'cascade'  # multiclass, multilabel, binary, cascade, dual\n",
    "USE_WANDB = False\n",
    "\n",
    "# Dataset\n",
    "IMAGE_SIZE = 256\n",
    "BATCH_SIZE = 4\n",
    "POLAR_TRANSFORM = False\n",
    "_BASE_DIR = '../data'\n",
    "TRAIN_IMAGES_DIR = [\n",
    "    # f'{_BASE_DIR}/ORIGA/ROI/TrainImages',\n",
    "    f'{_BASE_DIR}/DRISHTI/ROI/TrainImages',\n",
    "]\n",
    "TRAIN_MASKS_DIR = [\n",
    "    # f'{_BASE_DIR}/ORIGA/ROI/TrainMasks',\n",
    "    f'{_BASE_DIR}/DRISHTI/ROI/TrainMasks',\n",
    "]\n",
    "VAL_IMAGES_DIR = [\n",
    "    # f'{_BASE_DIR}/ORIGA/ROI/TestImages',\n",
    "    f'{_BASE_DIR}/DRISHTI/ROI/TestImages',\n",
    "]\n",
    "VAL_MASKS_DIR = [\n",
    "    # f'{_BASE_DIR}/ORIGA/ROI/TestMasks',\n",
    "    f'{_BASE_DIR}/DRISHTI/ROI/TestMasks',\n",
    "]\n",
    "\n",
    "NUM_WORKERS = 0\n",
    "DEVICE = 'cuda' if torch.cuda.is_available() else 'cpu'\n",
    "PIN_MEMORY = True if DEVICE == 'cuda' else False\n",
    "DEVICE = torch.device(DEVICE)\n",
    "\n",
    "# Model\n",
    "IN_CHANNELS, OUT_CHANNELS = 3, 1\n",
    "LEARNING_RATE = 1e-4\n",
    "LAYERS = [16, 32, 48, 64, 80]\n",
    "DROPOUT_2D = 0.2\n",
    "CLASS_WEIGHTS = None\n",
    "BASE_CASCADE_MODEL = '../models/normal/binary-RefUnet3PlusCBAM-model.pth'\n",
    "MULTI_SCALE_INPUT = False\n",
    "DEEP_SUPERVISION = False\n",
    "\n",
    "# Training\n",
    "EPOCHS = 3\n",
    "EARLY_STOPPING_PATIENCE = 11\n",
    "LOG_INTERVAL = 10\n",
    "SAVE_INTERVAL = 10\n",
    "OD_LOSS_WEIGHT = 1.0\n",
    "OC_LOSS_WEIGHT = 5.0\n",
    "LOGS_DIR = '../logs/'\n",
    "CHECKPOINT_DIR = '../checkpoints/'\n",
    "BINARY_LABELS = [1, 2]\n",
    "\n",
    "# Extra notes\n",
    "OPTIMIZER = 'adam'\n",
    "LOSS_FUNCTION = 'combo'\n",
    "SCHEDULER = 'plateau'\n",
    "SCALER = 'none'\n",
    "DATASET = 'ORIGA'"
   ],
   "metadata": {
    "collapsed": false
   }
  },
  {
   "cell_type": "code",
   "outputs": [],
   "source": [
    "if USE_WANDB:\n",
    "    wandb.login()\n",
    "\n",
    "config = {\n",
    "    'image_size': (IMAGE_SIZE, IMAGE_SIZE),\n",
    "    'input_channels': IN_CHANNELS,\n",
    "    'output_channels': OUT_CHANNELS,\n",
    "    'layers': LAYERS,\n",
    "    'batch_size': BATCH_SIZE,\n",
    "    'learning_rate': LEARNING_RATE,\n",
    "    'mode': ARCHITECTURE,\n",
    "    'model': NETWORK_NAME,\n",
    "    'loss': LOSS_FUNCTION,\n",
    "    'optimizer': OPTIMIZER,\n",
    "    'scheduler': SCHEDULER,\n",
    "    'epochs': EPOCHS,\n",
    "    'class_weights': CLASS_WEIGHTS,\n",
    "    'dropout': DROPOUT_2D,\n",
    "    'early_stopping_patience': EARLY_STOPPING_PATIENCE,\n",
    "    'dataset': DATASET,\n",
    "    'polar_transform': POLAR_TRANSFORM,\n",
    "    'multi_scale_input': MULTI_SCALE_INPUT,\n",
    "    'deep_supervision': DEEP_SUPERVISION,\n",
    "}\n",
    "\n",
    "if USE_WANDB:\n",
    "    wandb.init(project='DP-Glaucoma', config=config)\n",
    "#     wandb.init(project='DP-Glaucoma', config=config, resume=True, id='')"
   ],
   "metadata": {
    "collapsed": false
   },
   "execution_count": null
  },
  {
   "cell_type": "markdown",
   "source": [
    "## Dataset"
   ],
   "metadata": {
    "collapsed": false
   }
  },
  {
   "cell_type": "code",
   "execution_count": null,
   "outputs": [],
   "source": [
    "polar_transform_partial = partial(polar_transform, radius_ratio=1.0)\n",
    "\n",
    "train_transform = A.Compose([\n",
    "    A.Resize(height=IMAGE_SIZE, width=IMAGE_SIZE, interpolation=cv.INTER_AREA),\n",
    "    A.HorizontalFlip(p=0.5),\n",
    "    A.VerticalFlip(p=0.5),\n",
    "    A.RandomRotate90(p=1.0),\n",
    "    A.RandomBrightnessContrast(p=0.5),\n",
    "    A.RandomToneCurve(p=0.5),\n",
    "    A.MultiplicativeNoise(p=0.5),\n",
    "    A.Lambda(image=sharpen, p=1.0),\n",
    "    A.Lambda(image=polar_transform_partial, mask=polar_transform_partial) if POLAR_TRANSFORM else A.Lambda(),\n",
    "    A.Normalize(),\n",
    "    ToTensorV2(),\n",
    "])\n",
    "\n",
    "val_transform = A.Compose([\n",
    "    A.Resize(height=IMAGE_SIZE, width=IMAGE_SIZE, interpolation=cv.INTER_AREA),\n",
    "    A.Lambda(image=sharpen, p=1.0),\n",
    "    A.Lambda(image=polar_transform_partial, mask=polar_transform_partial) if POLAR_TRANSFORM else A.Lambda(),\n",
    "    A.Normalize(),\n",
    "    ToTensorV2(),\n",
    "])\n",
    "\n",
    "train_loader = load_dataset(\n",
    "    TRAIN_IMAGES_DIR, TRAIN_MASKS_DIR, train_transform,\n",
    "    BATCH_SIZE, NUM_WORKERS, PIN_MEMORY, shuffle=True,\n",
    ")\n",
    "val_loader = load_dataset(\n",
    "    VAL_IMAGES_DIR, VAL_MASKS_DIR, val_transform,\n",
    "    BATCH_SIZE, NUM_WORKERS, PIN_MEMORY, shuffle=False,\n",
    ")\n",
    "\n",
    "images, masks = next(iter(train_loader))\n",
    "images = images[:4].float()\n",
    "masks = masks[:4].long()\n",
    "fig, ax = plt.subplots(2, 4, figsize=(12, 6))\n",
    "ax = ax.flatten()\n",
    "for i, (image, mask) in enumerate(zip(images, masks)):\n",
    "    image -= image.min()\n",
    "    image /= image.max()\n",
    "    ax[i].imshow(image.permute(1, 2, 0))\n",
    "    ax[i + 4].imshow(mask)\n",
    "plt.tight_layout()\n",
    "plt.show()"
   ],
   "metadata": {
    "collapsed": false
   }
  },
  {
   "cell_type": "markdown",
   "source": [
    "## Model"
   ],
   "metadata": {
    "collapsed": false
   }
  },
  {
   "cell_type": "code",
   "execution_count": null,
   "outputs": [],
   "source": [
    "model = None\n",
    "binary_model = None\n",
    "hist = None\n",
    "\n",
    "if ARCHITECTURE == 'dual' and 'dual-' not in NETWORK_NAME:\n",
    "    NETWORK_NAME = 'dual-' + NETWORK_NAME\n",
    "\n",
    "if NETWORK_NAME == 'raunet++':\n",
    "    model = RAUnetPlusPlus(\n",
    "        in_channels=IN_CHANNELS, out_channels=OUT_CHANNELS, features=LAYERS,\n",
    "        multi_scale_input=MULTI_SCALE_INPUT, deep_supervision=DEEP_SUPERVISION, dropout=DROPOUT_2D,\n",
    "    )\n",
    "\n",
    "if NETWORK_NAME == 'refunet3+cbam':\n",
    "    model = RefUnet3PlusCBAM(\n",
    "        in_channels=IN_CHANNELS, out_channels=OUT_CHANNELS, features=LAYERS,\n",
    "        multi_scale_input=MULTI_SCALE_INPUT, dropout=DROPOUT_2D,\n",
    "    )\n",
    "\n",
    "if NETWORK_NAME == 'swinunet':\n",
    "    model = SwinUnet(\n",
    "        in_channels=IN_CHANNELS, out_channels=OUT_CHANNELS, img_size=224, patch_size=4,\n",
    "    )\n",
    "\n",
    "if NETWORK_NAME == 'dual-raunet++':\n",
    "    model = DualRAUnetPlusPlus(\n",
    "        in_channels=IN_CHANNELS, out_channels=OUT_CHANNELS, features=LAYERS,\n",
    "        multi_scale_input=MULTI_SCALE_INPUT, deep_supervision=DEEP_SUPERVISION, dropout=DROPOUT_2D,\n",
    "    )\n",
    "\n",
    "if NETWORK_NAME == 'dual-refunet3+cbam':\n",
    "    model = DualRefUnet3PlusCBAM(\n",
    "        in_channels=IN_CHANNELS, out_channels=OUT_CHANNELS, features=LAYERS,\n",
    "        multi_scale_input=MULTI_SCALE_INPUT, dropout=DROPOUT_2D,\n",
    "    )\n",
    "\n",
    "if NETWORK_NAME == 'dual-swinunet':\n",
    "    model = DualSwinUnet(\n",
    "        in_channels=IN_CHANNELS, out_channels=OUT_CHANNELS, img_size=224, patch_size=4,\n",
    "    )\n",
    "\n",
    "assert model is not None, f'Invalid network name: {NETWORK_NAME}'\n",
    "\n",
    "model = model.to(DEVICE)\n",
    "init_model_weights(model)\n",
    "\n",
    "optimizer = optim.Adam(model.parameters(), lr=LEARNING_RATE)\n",
    "# optimizer = optim.SGD(model.parameters(), lr=LEARNING_RATE, momentum=0.9)\n",
    "# optimizer = optim.RMSprop(model.parameters(), lr=LEARNING_RATE)\n",
    "# optimizer = optim.Adadelta(model.parameters(), lr=LEARNING_RATE)\n",
    "# optimizer = optim.Adagrad(model.parameters(), lr=LEARNING_RATE)\n",
    "# optimizer = optim.AdamW(model.parameters(), lr=LEARNING_RATE, weight_decay=0.01)\n",
    "\n",
    "num_classes = OUT_CHANNELS if ARCHITECTURE == 'multiclass' else 1\n",
    "criterion = ComboLoss(num_classes=num_classes, class_weights=CLASS_WEIGHTS)\n",
    "# criterion = DiceLoss(num_classes=num_classes, class_weights=CLASS_WEIGHTS)\n",
    "# criterion = GeneralizedDice(num_classes=num_classes, class_weights=CLASS_WEIGHTS)\n",
    "# criterion = IoULoss(num_classes=num_classes, class_weights=CLASS_WEIGHTS)\n",
    "# criterion = FocalLoss(num_classes=num_classes)\n",
    "# criterion = TverskyLoss(num_classes=num_classes, class_weights=CLASS_WEIGHTS, alpha=0.7, beta=0.3)\n",
    "# criterion = FocalTverskyLoss(num_classes=num_classes, class_weights=CLASS_WEIGHTS, alpha=0.3, beta=0.7)\n",
    "# criterion = BoundaryLoss(num_classes=num_classes, class_weights=CLASS_WEIGHTS)\n",
    "# criterion = HausdorffLoss(num_classes=num_classes, class_weights=CLASS_WEIGHTS)\n",
    "# criterion = EdgeLoss(num_classes=num_classes, class_weights=CLASS_WEIGHTS)\n",
    "# criterion = CrossEntropyLoss(num_classes=num_classes)\n",
    "# criterion = SensitivitySpecificityLoss(num_classes=num_classes, class_weights=CLASS_WEIGHTS, alpha=1.0, beta=1.0)\n",
    "# criterion = CompositeLoss([\n",
    "#     ComboLoss(num_classes=num_classes, class_weights=CLASS_WEIGHTS),\n",
    "#     FocalTverskyLoss(num_classes=num_classes, class_weights=CLASS_WEIGHTS),\n",
    "#     BoundaryLoss(num_classes=num_classes, class_weights=CLASS_WEIGHTS),\n",
    "# ], weights=[0.5, 1.5, 1.0])\n",
    "\n",
    "scheduler = optim.lr_scheduler.ReduceLROnPlateau(optimizer, factor=0.1, patience=5, verbose=True)\n",
    "# scheduler = optim.lr_scheduler.CosineAnnealingWarmRestarts(\n",
    "#     optimizer, T_0=10, T_mult=1, eta_min=1e-6, last_epoch=-1, verbose=True\n",
    "# )\n",
    "scaler = None\n",
    "\n",
    "if BASE_CASCADE_MODEL:\n",
    "    checkpoint = load_checkpoint(BASE_CASCADE_MODEL, map_location=DEVICE)\n",
    "    binary_model = checkpoint['model']"
   ],
   "metadata": {
    "collapsed": false
   }
  },
  {
   "cell_type": "markdown",
   "source": [
    "## Training"
   ],
   "metadata": {
    "collapsed": false
   }
  },
  {
   "cell_type": "code",
   "execution_count": null,
   "outputs": [],
   "source": [
    "os.makedirs(LOGS_DIR, exist_ok=True)\n",
    "os.makedirs(CHECKPOINT_DIR, exist_ok=True)\n",
    "\n",
    "hist = train(\n",
    "    ARCHITECTURE, model, criterion, optimizer, EPOCHS, DEVICE, train_loader, val_loader, scheduler, scaler,\n",
    "    binary_labels=BINARY_LABELS,  # binary\n",
    "    binary_model=binary_model, inter_processing=interprocess,  # cascade\n",
    "    od_loss_weight=OD_LOSS_WEIGHT, oc_loss_weight=OC_LOSS_WEIGHT,  # dual\n",
    "    save_interval=SAVE_INTERVAL, early_stopping_patience=EARLY_STOPPING_PATIENCE,\n",
    "    log_to_wandb=USE_WANDB, log_dir=LOGS_DIR, log_interval=LOG_INTERVAL, checkpoint_dir=CHECKPOINT_DIR,\n",
    "    save_best_model=True, plot_examples='none', show_plots=False,\n",
    "    inverse_transform=undo_polar_transform if POLAR_TRANSFORM else None,\n",
    ")"
   ],
   "metadata": {
    "collapsed": false
   }
  },
  {
   "cell_type": "code",
   "execution_count": null,
   "outputs": [],
   "source": [
    "plot_history(hist, figsize=(14, 12))"
   ],
   "metadata": {
    "collapsed": false
   }
  },
  {
   "cell_type": "markdown",
   "source": [
    "## Testing"
   ],
   "metadata": {
    "collapsed": false
   }
  },
  {
   "cell_type": "code",
   "execution_count": null,
   "outputs": [],
   "source": [
    "results = evaluate(\n",
    "    ARCHITECTURE, model, val_loader, DEVICE, criterion,\n",
    "    binary_labels=BINARY_LABELS, base_model=binary_model,\n",
    "    inverse_transform=undo_polar_transform if POLAR_TRANSFORM else None,\n",
    "    inter_process_fn=interprocess, post_process_fn=postprocess, tta=False,\n",
    ")"
   ],
   "metadata": {
    "collapsed": false
   }
  },
  {
   "cell_type": "code",
   "execution_count": null,
   "outputs": [],
   "source": [
    "plot_results_from_loader(\n",
    "    ARCHITECTURE, val_loader, model, DEVICE,\n",
    "    n_samples=4, save_path=f'{LOGS_DIR}/evaluation.png',\n",
    "    base_model=binary_model, binary_labels=BINARY_LABELS,\n",
    "    inverse_transform=undo_polar_transform if POLAR_TRANSFORM else None,\n",
    "    inter_process_fn=interprocess, post_process_fn=postprocess, tta=False,\n",
    ")"
   ],
   "metadata": {
    "collapsed": false
   }
  },
  {
   "cell_type": "code",
   "execution_count": null,
   "outputs": [],
   "source": [],
   "metadata": {
    "collapsed": false
   }
  },
  {
   "cell_type": "code",
   "outputs": [],
   "source": [
    "if USE_WANDB:\n",
    "    wandb.finish()"
   ],
   "metadata": {
    "collapsed": false
   },
   "execution_count": null
  },
  {
   "cell_type": "code",
   "execution_count": null,
   "outputs": [],
   "source": [],
   "metadata": {
    "collapsed": false
   }
  }
 ],
 "metadata": {
  "kernelspec": {
   "display_name": "Python 3",
   "language": "python",
   "name": "python3"
  },
  "language_info": {
   "codemirror_mode": {
    "name": "ipython",
    "version": 2
   },
   "file_extension": ".py",
   "mimetype": "text/x-python",
   "name": "python",
   "nbconvert_exporter": "python",
   "pygments_lexer": "ipython2",
   "version": "2.7.6"
  }
 },
 "nbformat": 4,
 "nbformat_minor": 0
}
