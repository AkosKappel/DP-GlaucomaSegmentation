{
 "cells": [
  {
   "cell_type": "markdown",
   "source": [
    "# Glaucoma Segmentation\n"
   ],
   "metadata": {
    "collapsed": false
   }
  },
  {
   "cell_type": "markdown",
   "source": [
    "## Imports"
   ],
   "metadata": {
    "collapsed": false
   }
  },
  {
   "cell_type": "code",
   "execution_count": null,
   "metadata": {
    "collapsed": true
   },
   "outputs": [],
   "source": [
    "import albumentations as A\n",
    "from albumentations.pytorch import ToTensorV2\n",
    "from collections import defaultdict\n",
    "import cv2 as cv\n",
    "import matplotlib.pyplot as plt\n",
    "import numpy as np\n",
    "import os\n",
    "import torch\n",
    "import torch.nn as nn\n",
    "import torch.optim as optim\n",
    "import torch.nn.functional as F\n",
    "from torch.utils.data import DataLoader\n",
    "from tqdm import tqdm\n",
    "\n",
    "from networks import *\n",
    "from training import *\n",
    "from utils import *"
   ]
  },
  {
   "cell_type": "markdown",
   "source": [
    "## Setup"
   ],
   "metadata": {
    "collapsed": false
   }
  },
  {
   "cell_type": "code",
   "execution_count": null,
   "outputs": [],
   "source": [
    "IMAGE_DIR = '../data/ORIGA/Images_Cropped'\n",
    "MASK_DIR = '../data/ORIGA/Masks_Cropped'\n",
    "LOGS_DIR = '../logs/'\n",
    "CHECKPOINT_DIR = '../checkpoints/'\n",
    "IMAGE_HEIGHT, IMAGE_WIDTH = 128, 128\n",
    "IN_CHANNELS = 3\n",
    "OUT_CHANNELS = 1\n",
    "NETWORK_NAME = 'unet'\n",
    "LOSS_FUNCTION = 'dice'\n",
    "OPTIMIZER = 'adam'\n",
    "ARCHITECTURE = 'binary'  # multiclass, binary, dual, cascade\n",
    "BINARY_TARGET_CLASSES = [2]\n",
    "SCHEDULER = 'plateau'\n",
    "DATASET = 'ORIGA'\n",
    "BATCH_SIZE = 4\n",
    "LEARNING_RATE = 1e-4\n",
    "EPOCHS = 3\n",
    "LAYERS = [32, 64, 128, 256, 512]\n",
    "EARLY_STOPPING_PATIENCE = 10\n",
    "LOG_INTERVAL = 5\n",
    "SAVE_INTERVAL = 10\n",
    "NUM_WORKERS = 4\n",
    "DEVICE = 'cuda' if torch.cuda.is_available() else 'cpu'\n",
    "PIN_MEMORY = True if DEVICE == 'cuda' else False\n",
    "USE_WANDB = False\n",
    "DEEP_SUPERVISION = False\n",
    "\n",
    "os.makedirs(LOGS_DIR, exist_ok=True)\n",
    "os.makedirs(CHECKPOINT_DIR, exist_ok=True)\n",
    "\n",
    "print(f'''CONFIGURATION:\n",
    "    PyTorch version: {torch.__version__}\n",
    "    Using device: {DEVICE}\n",
    "    Network: {NETWORK_NAME}\n",
    "    Architecture: {ARCHITECTURE}\n",
    "    Optimizer: {OPTIMIZER}\n",
    "    Loss function: {LOSS_FUNCTION}\n",
    "    Scheduler: {SCHEDULER}\n",
    "    Dataset: {DATASET}\n",
    "    Image directory: {IMAGE_DIR}\n",
    "    Mask directory: {MASK_DIR}\n",
    "    Input image height & width: {IMAGE_HEIGHT}x{IMAGE_WIDTH}\n",
    "    Number of input channels: {IN_CHANNELS}\n",
    "    Number of output channels: {OUT_CHANNELS}\n",
    "    Layers: {LAYERS}\n",
    "    Batch size: {BATCH_SIZE}\n",
    "    Learning rate: {LEARNING_RATE}\n",
    "    Epochs: {EPOCHS}\n",
    "    Early stopping patience: {EARLY_STOPPING_PATIENCE}\n",
    "    Save interval: {SAVE_INTERVAL}\n",
    "    Log interval: {LOG_INTERVAL}\n",
    "    Number of workers: {NUM_WORKERS}\n",
    "    Pin memory: {PIN_MEMORY}\n",
    "    Weight & Biases: {USE_WANDB}\n",
    "    Deep supervision: {DEEP_SUPERVISION}''')"
   ],
   "metadata": {
    "collapsed": false
   }
  },
  {
   "cell_type": "markdown",
   "source": [
    "## Dataset"
   ],
   "metadata": {
    "collapsed": false
   }
  },
  {
   "cell_type": "code",
   "execution_count": null,
   "outputs": [],
   "source": [
    "def polar_transform(img, **kwargs):\n",
    "    height, width = img.shape[:2]\n",
    "    center = (width // 2, height // 2)\n",
    "    value = np.sqrt(((width / 2.0) ** 2.0) + ((height / 2.0) ** 2.0))\n",
    "    polar_img = cv.linearPolar(img, center, value, cv.WARP_FILL_OUTLIERS)\n",
    "    polar_img = cv.rotate(polar_img, cv.ROTATE_90_COUNTERCLOCKWISE)\n",
    "    return polar_img\n",
    "\n",
    "\n",
    "def inverse_polar_transform(img, **kwargs):\n",
    "    img = cv.rotate(img, cv.ROTATE_90_CLOCKWISE)\n",
    "    height, width = img.shape[:2]\n",
    "    center = (width // 2, height // 2)\n",
    "    value = np.sqrt(((width / 2.0) ** 2.0) + ((height / 2.0) ** 2.0))\n",
    "    cartesian_img = cv.linearPolar(img, center, value, cv.WARP_INVERSE_MAP | cv.WARP_FILL_OUTLIERS)\n",
    "    return cartesian_img\n",
    "\n",
    "\n",
    "def keep_red_channel(img, **kwargs):\n",
    "    return img[:, :, 0]\n",
    "\n",
    "\n",
    "def keep_green_channel(img, **kwargs):\n",
    "    return img[:, :, 1]\n",
    "\n",
    "\n",
    "def keep_blue_channel(img, **kwargs):\n",
    "    return img[:, :, 2]\n",
    "\n",
    "\n",
    "def keep_gray_channel(img, **kwargs):\n",
    "    return cv.cvtColor(img, cv.COLOR_BGR2GRAY)\n",
    "\n",
    "\n",
    "def arctan(x):\n",
    "    return 1e-7 + (1 - 2 * 1e-7) * (0.5 + torch.arctan(x) / torch.tensor(np.pi))\n"
   ],
   "metadata": {
    "collapsed": false
   }
  },
  {
   "cell_type": "code",
   "execution_count": null,
   "outputs": [],
   "source": [
    "example_ds = OrigaDataset(IMAGE_DIR, MASK_DIR, os.listdir(IMAGE_DIR)[:1], A.Compose([\n",
    "    A.Resize(height=IMAGE_HEIGHT, width=IMAGE_WIDTH),\n",
    "    A.HorizontalFlip(p=0.5),\n",
    "    A.VerticalFlip(p=0.5),\n",
    "    A.RandomRotate90(p=1.0),  # rotate by 0, 90, 180, or 270 degrees\n",
    "    # A.Rotate(limit=30, p=0.33, border_mode=cv.BORDER_CONSTANT),\n",
    "    # A.Lambda(image=polar_transform, mask=polar_transform),\n",
    "    # A.Lambda(image=inverse_polar_transform, mask=inverse_polar_transform),\n",
    "    # A.Sharpen(p=0.5, alpha=(0.1, 0.3), lightness=(0.5, 1.0)),\n",
    "\n",
    "    # A.CLAHE(p=0.5),\n",
    "    # A.RandomBrightnessContrast(p=0.5),\n",
    "    # A.GridDistortion(p=0.5, border_mode=cv.BORDER_CONSTANT),\n",
    "    # A.MedianBlur(p=0.5),\n",
    "    # A.RandomToneCurve(p=0.5),\n",
    "    # A.MultiplicativeNoise(p=0.5),\n",
    "\n",
    "    A.Lambda(image=keep_gray_channel),\n",
    "    # A.Lambda(image=keep_red_channel),\n",
    "    # A.Lambda(image=keep_green_channel),\n",
    "    # A.Lambda(image=keep_blue_channel),\n",
    "\n",
    "    ToTensorV2(),\n",
    "]))\n",
    "example_loader = DataLoader(example_ds, batch_size=1, shuffle=True)\n",
    "\n",
    "example_image, example_mask = next(iter(example_loader))\n",
    "print(f'Image shape: {example_image.shape}')\n",
    "print(f'Mask shape: {example_mask.shape}')\n",
    "\n",
    "unique, counts = np.unique(example_mask, return_counts=True)\n",
    "print(f'Unique values and their counts in mask: {dict(zip(unique, counts))}')\n",
    "\n",
    "# Plot example augmented images and masks\n",
    "fig, ax = plt.subplots(3, 6, figsize=(12, 6))\n",
    "ax = ax.ravel()\n",
    "for i in range(0, 3 * 6, 2):\n",
    "    batch = next(iter(example_loader))\n",
    "    images, masks = batch\n",
    "    image, mask = images[0], masks[0]\n",
    "    image = image.permute(1, 2, 0).numpy()\n",
    "    mask = mask.numpy()\n",
    "    ax[i].imshow(image)\n",
    "    ax[i].axis('off')\n",
    "    ax[i + 1].imshow(mask, cmap='gray')\n",
    "    ax[i + 1].axis('off')\n",
    "plt.show()"
   ],
   "metadata": {
    "collapsed": false
   }
  },
  {
   "cell_type": "code",
   "execution_count": null,
   "outputs": [],
   "source": [
    "train_transform = A.Compose([\n",
    "    A.Resize(height=IMAGE_HEIGHT, width=IMAGE_WIDTH),\n",
    "    A.HorizontalFlip(p=0.5),\n",
    "    A.VerticalFlip(p=0.5),\n",
    "    A.RandomRotate90(p=1.0),\n",
    "    # A.Lambda(image=keep_gray_channel),\n",
    "    # A.Lambda(image=keep_red_channel),\n",
    "    # A.Lambda(image=keep_green_channel),\n",
    "    # A.Lambda(image=keep_blue_channel),\n",
    "    ToTensorV2(),\n",
    "])\n",
    "\n",
    "val_transform = A.Compose([\n",
    "    A.Resize(height=IMAGE_HEIGHT, width=IMAGE_WIDTH),\n",
    "    # A.Lambda(image=keep_gray_channel),\n",
    "    # A.Lambda(image=keep_red_channel),\n",
    "    # A.Lambda(image=keep_green_channel),\n",
    "    # A.Lambda(image=keep_blue_channel),\n",
    "    ToTensorV2(),\n",
    "])\n",
    "\n",
    "train_loader, val_loader, test_loader = load_origa(\n",
    "    IMAGE_DIR, MASK_DIR, 0.7, 0.15, 0.15,\n",
    "    train_transform, val_transform, val_transform, BATCH_SIZE, PIN_MEMORY, NUM_WORKERS\n",
    ")\n"
   ],
   "metadata": {
    "collapsed": false
   }
  },
  {
   "cell_type": "markdown",
   "source": [
    "## Model"
   ],
   "metadata": {
    "collapsed": false
   }
  },
  {
   "cell_type": "code",
   "execution_count": null,
   "outputs": [],
   "source": [
    "model = get_network(NETWORK_NAME, in_channels=IN_CHANNELS, out_channels=OUT_CHANNELS, layers=LAYERS).to(DEVICE)\n",
    "optimizer = get_optimizer(OPTIMIZER, model.parameters(), lr=LEARNING_RATE)\n",
    "criterion = get_criterion(LOSS_FUNCTION, num_classes=OUT_CHANNELS)\n",
    "scheduler = get_scheduler(SCHEDULER, optimizer, factor=0.1, patience=5, verbose=True)\n",
    "scaler = None\n",
    "# scaler = torch.cuda.amp.GradScaler()\n",
    "\n",
    "init_weights(model)"
   ],
   "metadata": {
    "collapsed": false
   }
  },
  {
   "cell_type": "markdown",
   "source": [
    "## Training"
   ],
   "metadata": {
    "collapsed": false
   }
  },
  {
   "cell_type": "code",
   "execution_count": null,
   "outputs": [],
   "source": [
    "if ARCHITECTURE == 'multiclass':\n",
    "    hist = train_multiclass(\n",
    "        model, criterion, optimizer, EPOCHS, DEVICE, train_loader, val_loader, scheduler, scaler,\n",
    "        save_interval=SAVE_INTERVAL, early_stopping_patience=EARLY_STOPPING_PATIENCE,\n",
    "        log_to_wandb=USE_WANDB, log_dir=LOGS_DIR, log_interval=LOG_INTERVAL, checkpoint_dir=CHECKPOINT_DIR,\n",
    "        save_best_model=True, plot_examples='none', show_plots=False,\n",
    "    )\n",
    "\n",
    "if ARCHITECTURE == 'binary':\n",
    "    hist = train_binary(\n",
    "        model, criterion, optimizer, EPOCHS, DEVICE, train_loader, val_loader, scheduler, scaler,\n",
    "        save_interval=SAVE_INTERVAL, early_stopping_patience=EARLY_STOPPING_PATIENCE,\n",
    "        log_to_wandb=USE_WANDB, log_dir=LOGS_DIR, log_interval=LOG_INTERVAL, checkpoint_dir=CHECKPOINT_DIR,\n",
    "        save_best_model=True, plot_examples='none', show_plots=False, target_ids=BINARY_TARGET_CLASSES,\n",
    "    )\n",
    "\n",
    "if ARCHITECTURE == 'dual':\n",
    "    hist = train_dual(\n",
    "        model, criterion, criterion, optimizer, EPOCHS, DEVICE, train_loader, val_loader, scheduler, scaler,\n",
    "        save_interval=SAVE_INTERVAL, early_stopping_patience=EARLY_STOPPING_PATIENCE,\n",
    "        log_to_wandb=USE_WANDB, log_dir=LOGS_DIR, log_interval=LOG_INTERVAL, checkpoint_dir=CHECKPOINT_DIR,\n",
    "        save_best_model=True, plot_examples='none', show_plots=False,\n",
    "    )\n",
    "\n",
    "if ARCHITECTURE == 'cascade':\n",
    "    binary_model = Unet(3, 1, LAYERS).to(DEVICE)\n",
    "    checkpoint = torch.load(CHECKPOINT_DIR + 'binary-model.pth')\n",
    "    binary_model.load_state_dict(checkpoint)\n",
    "    hist = train_cascade(\n",
    "        binary_model, model, criterion, optimizer, EPOCHS, DEVICE, train_loader, val_loader, scheduler, scaler,\n",
    "        save_interval=SAVE_INTERVAL, early_stopping_patience=EARLY_STOPPING_PATIENCE,\n",
    "        log_to_wandb=USE_WANDB, log_dir=LOGS_DIR, log_interval=LOG_INTERVAL, checkpoint_dir=CHECKPOINT_DIR,\n",
    "        save_best_model=True, plot_examples='none', show_plots=False,\n",
    "    )\n"
   ],
   "metadata": {
    "collapsed": false
   }
  },
  {
   "cell_type": "code",
   "execution_count": null,
   "outputs": [],
   "source": [
    "# Plot metrics\n",
    "used_metrics = sorted([m[6:] for m in hist.keys() if m.startswith('train_')])\n",
    "fig, ax = plt.subplots(4, 4, figsize=(14, 8))\n",
    "ax = ax.ravel()\n",
    "\n",
    "for i, metric in enumerate(used_metrics):\n",
    "    ax[i].plot(hist[f'train_{metric}'], label=f'train')\n",
    "    ax[i].plot(hist[f'val_{metric}'], label=f'val')\n",
    "    ax[i].set_title(metric[0].upper() + metric[1:].replace('_', ' '))\n",
    "    if metric != 'loss':\n",
    "        ax[i].set_ylim(top=1)\n",
    "    ax[i].legend()\n",
    "\n",
    "for ax in ax[len(used_metrics):]:\n",
    "    ax.axis('off')\n",
    "\n",
    "plt.tight_layout()\n",
    "plt.show()"
   ],
   "metadata": {
    "collapsed": false
   }
  },
  {
   "cell_type": "markdown",
   "source": [
    "## Testing"
   ],
   "metadata": {
    "collapsed": false
   }
  },
  {
   "cell_type": "code",
   "execution_count": null,
   "outputs": [],
   "source": [
    "if ARCHITECTURE == 'multiclass':\n",
    "    results = evaluate('multiclass', model, test_loader, criterion, DEVICE)\n",
    "\n",
    "if ARCHITECTURE == 'binary':\n",
    "    results = evaluate('binary', model, test_loader, criterion, DEVICE, class_ids=BINARY_TARGET_CLASSES)\n",
    "\n",
    "if ARCHITECTURE == 'dual':\n",
    "    results = evaluate('dual', model, test_loader, criterion, DEVICE)\n",
    "\n",
    "if ARCHITECTURE == 'cascade':\n",
    "    binary_model = Unet(3, 1, LAYERS).to(DEVICE)\n",
    "    checkpoint = torch.load(CHECKPOINT_DIR + 'binary-model.pth')\n",
    "    binary_model.load_state_dict(checkpoint)\n",
    "    results = evaluate('cascade', model, test_loader, criterion, DEVICE, model0=binary_model)"
   ],
   "metadata": {
    "collapsed": false
   }
  },
  {
   "cell_type": "code",
   "execution_count": null,
   "outputs": [],
   "source": [
    "if ARCHITECTURE == 'multiclass':\n",
    "    plot_results_from_loader('multiclass', test_loader, model, DEVICE, n_samples=4,\n",
    "                             save_path=f'{LOGS_DIR}/evaluation.png')\n",
    "\n",
    "if ARCHITECTURE == 'binary':\n",
    "    plot_results_from_loader('binary', test_loader, model, DEVICE, n_samples=4,\n",
    "                             save_path=f'{LOGS_DIR}/evaluation.png', class_ids=BINARY_TARGET_CLASSES)\n",
    "\n",
    "if ARCHITECTURE == 'dual':\n",
    "    plot_results_from_loader('dual', test_loader, model, DEVICE,\n",
    "                             n_samples=4, save_path=f'{LOGS_DIR}/evaluation.png')\n",
    "\n",
    "if ARCHITECTURE == 'cascade':\n",
    "    plot_results_from_loader('cascade', test_loader, model, DEVICE, n_samples=4,\n",
    "                             save_path=f'{LOGS_DIR}/evaluation.png', model0=binary_model)"
   ],
   "metadata": {
    "collapsed": false
   }
  },
  {
   "cell_type": "code",
   "execution_count": null,
   "outputs": [],
   "source": [],
   "metadata": {
    "collapsed": false
   }
  },
  {
   "cell_type": "markdown",
   "source": [
    "## Work in progress"
   ],
   "metadata": {
    "collapsed": false
   }
  },
  {
   "cell_type": "code",
   "execution_count": null,
   "outputs": [],
   "source": [
    "# torch.save(model.state_dict(), CHECKPOINT_DIR + 'model.pth')\n",
    "\n",
    "checkpoint = torch.load(CHECKPOINT_DIR + 'multiclass-model.pth')\n",
    "model = Unet(3, 3, LAYERS).to(DEVICE)\n",
    "# model = DualUnet(3, 1, LAYERS).to(DEVICE)\n",
    "criterion = DiceLoss(3)\n",
    "model.load_state_dict(checkpoint)\n",
    "\n",
    "# binary_model = Unet(3, 1, LAYERS).to(DEVICE)\n",
    "# checkpoint = torch.load(CHECKPOINT_DIR + 'binary-model.pth')\n",
    "# binary_model.load_state_dict(checkpoint)"
   ],
   "metadata": {
    "collapsed": false
   }
  },
  {
   "cell_type": "code",
   "execution_count": null,
   "outputs": [],
   "source": [
    "# Non-ellipse: 5, 12\n",
    "# Holes: 0, 20\n",
    "\n",
    "target_batch = 12\n",
    "\n",
    "for batch_idx, (images, masks) in enumerate(test_loader):\n",
    "    if batch_idx != target_batch:\n",
    "        continue\n",
    "    images = images.float().to(DEVICE)\n",
    "    masks = masks.long().to(DEVICE)\n",
    "\n",
    "    outputs = model(images)\n",
    "    probs = torch.softmax(outputs, dim=1)\n",
    "    preds = torch.argmax(probs, dim=1)\n",
    "\n",
    "    met = get_metrics(masks, preds, [[1, 2], [2]])\n",
    "\n",
    "    images = images.detach().cpu().numpy().transpose(0, 2, 3, 1) / 255\n",
    "    masks = masks.detach().cpu().numpy()\n",
    "    preds = preds.detach().cpu().numpy()\n",
    "\n",
    "    print(f'Batch {batch_idx} metrics: {met}')\n",
    "\n",
    "    # Plot results\n",
    "    fig, ax = plt.subplots(4, 3, figsize=(8, 12))\n",
    "    ax = ax.ravel()\n",
    "    for i in range(4):\n",
    "        ax[3 * i].imshow(images[i])\n",
    "        ax[3 * i + 1].imshow(masks[i])\n",
    "        ax[3 * i + 2].imshow(preds[i])\n",
    "    plt.tight_layout()\n",
    "    plt.show()\n",
    "\n",
    "    break"
   ],
   "metadata": {
    "collapsed": false
   }
  },
  {
   "cell_type": "code",
   "execution_count": null,
   "outputs": [],
   "source": [
    "idx = 1\n",
    "\n",
    "image = images[idx]\n",
    "mask = masks[idx]\n",
    "pred = preds[idx]\n",
    "\n",
    "mask_od, mask_oc = separate_disc_and_cup_mask(mask)\n",
    "pred_od, pred_oc = separate_disc_and_cup_mask(pred)\n",
    "\n",
    "# plot image, OD mask and OC mask\n",
    "fig, ax = plt.subplots(1, 3, figsize=(12, 4))\n",
    "ax = ax.ravel()\n",
    "ax[0].imshow(image)\n",
    "ax[1].imshow(pred_od)\n",
    "ax[2].imshow(pred_oc)\n",
    "plt.tight_layout()\n",
    "plt.show()\n",
    "\n",
    "get_metrics(mask_oc, pred_oc, [[1, 2]])"
   ],
   "metadata": {
    "collapsed": false
   }
  },
  {
   "cell_type": "code",
   "execution_count": null,
   "outputs": [],
   "source": [
    "mask1 = apply_largest_component_selection(pred)\n",
    "mask2 = apply_hole_filling(pred)\n",
    "mask3 = apply_largest_component_selection(apply_hole_filling(pred))\n",
    "mask4 = apply_hole_filling(apply_largest_component_selection(pred))\n",
    "mask5 = apply_ellipse_fitting(pred)\n",
    "\n",
    "# Plot results\n",
    "_, ax = plt.subplots(2, 4, figsize=(12, 7))\n",
    "ax = ax.ravel()\n",
    "for a in ax:\n",
    "    a.axis('off')\n",
    "\n",
    "ax[0].set_title('Image')\n",
    "ax[0].imshow(image)\n",
    "ax[1].set_title('Ground truth')\n",
    "ax[1].imshow(mask)\n",
    "ax[2].set_title('Prediction')\n",
    "ax[2].imshow(pred)\n",
    "ax[3].set_title('Largest component')\n",
    "ax[3].imshow(mask1)\n",
    "ax[4].set_title('Hole filling')\n",
    "ax[4].imshow(mask2)\n",
    "ax[5].set_title('Largest + hole')\n",
    "ax[5].imshow(mask3)\n",
    "ax[6].set_title('Hole + largest')\n",
    "ax[6].imshow(mask4)\n",
    "ax[7].set_title('Ellipse fitting')\n",
    "ax[7].imshow(mask5)\n",
    "\n",
    "plt.tight_layout()\n",
    "plt.show()"
   ],
   "metadata": {
    "collapsed": false
   }
  },
  {
   "cell_type": "code",
   "execution_count": null,
   "outputs": [],
   "source": [
    "smoothed_od_mask = smooth_contours(pred_od)\n",
    "smoothed_oc_mask = smooth_contours(pred_oc)\n",
    "smoothed_mask = smoothed_od_mask + smoothed_oc_mask\n",
    "\n",
    "# Plot results\n",
    "_, ax = plt.subplots(1, 4, figsize=(12, 5))\n",
    "ax[0].imshow(image)\n",
    "ax[1].imshow(pred)\n",
    "ax[2].imshow(smoothed_od_mask)\n",
    "ax[3].imshow(smoothed_oc_mask)\n",
    "plt.tight_layout()\n",
    "plt.show()\n",
    "\n",
    "\n",
    "def on_trackbar(s):\n",
    "    s = s / 10\n",
    "    smoothed_mask = smooth_contours(pred_oc, s)\n",
    "\n",
    "    m = get_metrics(mask_oc, smoothed_mask, [[1, 2]])\n",
    "    print(m['dice_OD'])\n",
    "\n",
    "    # Display the original and smoothed masks side by side\n",
    "    side_by_side = np.hstack((mask_oc * 255, pred_oc * 255, smoothed_mask * 255))\n",
    "    cv.imshow('Contour Smoothing', side_by_side)\n",
    "\n",
    "\n",
    "cv.namedWindow('Contour Smoothing')\n",
    "cv.createTrackbar('S Parameter', 'Contour Smoothing', 5, 100, on_trackbar)\n",
    "initial_s = 1.0\n",
    "on_trackbar(initial_s)\n",
    "\n",
    "cv.waitKey(0)\n",
    "cv.destroyAllWindows()"
   ],
   "metadata": {
    "collapsed": false
   }
  },
  {
   "cell_type": "code",
   "execution_count": null,
   "outputs": [],
   "source": [
    "snake_img = snakes(pred_oc)\n",
    "\n",
    "# Plot results\n",
    "fig, ax = plt.subplots(1, 4, figsize=(12, 5))\n",
    "ax[0].imshow(image)\n",
    "ax[1].imshow(mask_oc)\n",
    "ax[2].imshow(pred_oc)\n",
    "ax[3].imshow(snake_img)\n",
    "plt.tight_layout()\n",
    "plt.show()\n",
    "\n",
    "\n",
    "def on_trackbar(a, b, c):\n",
    "    a = a / 10\n",
    "    b = b / 10\n",
    "    c = c / 10\n",
    "\n",
    "    snake_mask = snakes(pred_oc, a, b, c)\n",
    "\n",
    "    m = get_metrics(mask_oc, snake_mask, [[1, 2]])\n",
    "    print(m['dice_OD'])\n",
    "\n",
    "    # Display the original and smoothed masks side by side\n",
    "    side_by_side = np.hstack((mask_oc * 255, pred_oc * 255, snake_mask * 255))\n",
    "    cv.imshow('Snake', side_by_side)\n",
    "\n",
    "\n",
    "def on_trackbar1(a):\n",
    "    global initial_alpha\n",
    "    initial_alpha = a\n",
    "    on_trackbar(initial_alpha, initial_beta, initial_gamma)\n",
    "\n",
    "\n",
    "def on_trackbar2(b):\n",
    "    global initial_beta\n",
    "    initial_beta = b\n",
    "    on_trackbar(initial_alpha, initial_beta, initial_gamma)\n",
    "\n",
    "\n",
    "def on_trackbar3(c):\n",
    "    global initial_gamma\n",
    "    initial_gamma = c\n",
    "    on_trackbar(initial_alpha, initial_beta, initial_gamma)\n",
    "\n",
    "\n",
    "initial_alpha = 0.1\n",
    "initial_beta = 2.0\n",
    "initial_gamma = 5.0\n",
    "\n",
    "cv.namedWindow('Snake')\n",
    "cv.createTrackbar('alpha', 'Snake', 1, 50, on_trackbar1)\n",
    "cv.createTrackbar('beta', 'Snake', 20, 50, on_trackbar2)\n",
    "cv.createTrackbar('gamma', 'Snake', 50, 100, on_trackbar3)\n",
    "on_trackbar(initial_alpha, initial_beta, initial_gamma)\n",
    "\n",
    "cv.waitKey(0)\n",
    "cv.destroyAllWindows()"
   ],
   "metadata": {
    "collapsed": false
   }
  },
  {
   "cell_type": "code",
   "execution_count": null,
   "outputs": [],
   "source": [],
   "metadata": {
    "collapsed": false
   }
  },
  {
   "cell_type": "code",
   "execution_count": null,
   "outputs": [],
   "source": [],
   "metadata": {
    "collapsed": false
   }
  },
  {
   "cell_type": "code",
   "execution_count": null,
   "outputs": [],
   "source": [],
   "metadata": {
    "collapsed": false
   }
  },
  {
   "cell_type": "code",
   "execution_count": null,
   "outputs": [],
   "source": [],
   "metadata": {
    "collapsed": false
   }
  },
  {
   "cell_type": "markdown",
   "source": [
    "## Contour detection method"
   ],
   "metadata": {
    "collapsed": false
   }
  },
  {
   "cell_type": "code",
   "execution_count": null,
   "outputs": [],
   "source": [
    "from skimage import segmentation\n",
    "from scipy.ndimage import distance_transform_edt\n",
    "\n",
    "images, masks = next(iter(val_loader))\n",
    "images = images.float().to(DEVICE)\n",
    "masks = masks.long().to(DEVICE)\n",
    "\n",
    "image = images[0].cpu().numpy().transpose(1, 2, 0) / 255.0\n",
    "mask = masks[0].cpu().numpy()\n",
    "prediction = np.zeros_like(mask)\n",
    "prediction[16:112, 16:112] = 1\n",
    "prediction[32:96, 32:96] = 2\n",
    "\n",
    "boundaries = segmentation.find_boundaries(mask, mode='inner').astype(np.uint8)\n",
    "marked = image.copy()\n",
    "marked[boundaries == 1] = [0, 0, 0]\n",
    "dist_map = distance_transform_edt(1 - boundaries)\n",
    "dist_map = dist_map / dist_map.max()\n",
    "\n",
    "_, ax = plt.subplots(2, 4, figsize=(15, 7))\n",
    "ax[0, 0].imshow(mask)\n",
    "ax[0, 1].imshow(boundaries)\n",
    "ax[0, 2].imshow(dist_map)\n",
    "ax[0, 3].imshow(dist_map.max() - dist_map)\n",
    "ax[1, 0].imshow(prediction)\n",
    "ax[1, 1].imshow(marked)\n",
    "plt.show()"
   ],
   "metadata": {
    "collapsed": false
   }
  },
  {
   "cell_type": "code",
   "execution_count": null,
   "outputs": [],
   "source": [
    "model = Unet(in_channels=3, out_channels=1).to(DEVICE)\n",
    "loss = DiceLoss(num_classes=1)\n",
    "optimizer = optim.Adam(model.parameters(), lr=LEARNING_RATE)\n",
    "\n",
    "for epoch in range(5):\n",
    "    acc_loss = 0\n",
    "    for images, masks in val_loader:\n",
    "\n",
    "        edge_masks = np.zeros((masks.shape[0], masks.shape[1], masks.shape[2]))\n",
    "        for b in range(masks.shape[0]):\n",
    "            mask = masks[b].cpu().numpy()\n",
    "            boundaries = segmentation.find_boundaries(mask, mode='thick').astype(np.uint8)\n",
    "            edge_masks[b] = boundaries\n",
    "        masks = torch.from_numpy(edge_masks)\n",
    "\n",
    "        images = images.float().to(DEVICE)\n",
    "        masks = masks.long().to(DEVICE)\n",
    "\n",
    "        outputs = model(images)\n",
    "        loss_value = loss(outputs, masks)\n",
    "        acc_loss += loss_value.item()\n",
    "\n",
    "        optimizer.zero_grad()\n",
    "        loss_value.backward()\n",
    "        optimizer.step()\n",
    "\n",
    "    # plot example\n",
    "    images = images.cpu().numpy()\n",
    "    masks = masks.cpu().numpy()\n",
    "    # probs = F.softmax(outputs, dim=1)\n",
    "    # preds = torch.argmax(probs, dim=1).cpu().numpy()\n",
    "    probs = torch.sigmoid(outputs)\n",
    "    preds = (probs > 0.5).float().cpu().numpy().transpose(0, 2, 3, 1)\n",
    "\n",
    "    fig, ax = plt.subplots(1, 3, figsize=(15, 5))\n",
    "    ax[0].imshow(images[0].transpose(1, 2, 0) / 255.0)\n",
    "    ax[1].imshow(masks[0])\n",
    "    ax[2].imshow(preds[0])\n",
    "    plt.show()\n",
    "\n",
    "    print(f'Epoch {epoch + 1} loss:', acc_loss / len(val_loader))\n"
   ],
   "metadata": {
    "collapsed": false
   }
  },
  {
   "cell_type": "code",
   "execution_count": null,
   "outputs": [],
   "source": [],
   "metadata": {
    "collapsed": false
   }
  }
 ],
 "metadata": {
  "kernelspec": {
   "display_name": "Python 3",
   "language": "python",
   "name": "python3"
  },
  "language_info": {
   "codemirror_mode": {
    "name": "ipython",
    "version": 2
   },
   "file_extension": ".py",
   "mimetype": "text/x-python",
   "name": "python",
   "nbconvert_exporter": "python",
   "pygments_lexer": "ipython2",
   "version": "2.7.6"
  }
 },
 "nbformat": 4,
 "nbformat_minor": 0
}
