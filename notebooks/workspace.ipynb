{
 "cells": [
  {
   "cell_type": "markdown",
   "source": [
    "# Glaucoma Segmentation\n"
   ],
   "metadata": {
    "collapsed": false
   }
  },
  {
   "cell_type": "markdown",
   "source": [
    "## Imports"
   ],
   "metadata": {
    "collapsed": false
   }
  },
  {
   "cell_type": "code",
   "execution_count": null,
   "metadata": {
    "collapsed": true
   },
   "outputs": [],
   "source": [
    "import albumentations as A\n",
    "from albumentations.pytorch import ToTensorV2\n",
    "from collections import defaultdict\n",
    "import cv2 as cv\n",
    "import matplotlib.pyplot as plt\n",
    "import numpy as np\n",
    "import os\n",
    "import torch\n",
    "import torch.nn as nn\n",
    "import torch.optim as optim\n",
    "import torch.nn.functional as F\n",
    "from torch.utils.data import DataLoader\n",
    "from tqdm import tqdm\n",
    "\n",
    "from models import *\n",
    "from training import *\n",
    "from utils import *"
   ]
  },
  {
   "cell_type": "markdown",
   "source": [
    "## Setup"
   ],
   "metadata": {
    "collapsed": false
   }
  },
  {
   "cell_type": "code",
   "execution_count": null,
   "outputs": [],
   "source": [
    "IMAGE_DIR = '../data/ORIGA/Images_Cropped'\n",
    "MASK_DIR = '../data/ORIGA/Masks_Cropped'\n",
    "LOGS_DIR = '../logs/'\n",
    "CHECKPOINT_DIR = '../checkpoints/'\n",
    "IMAGE_HEIGHT, IMAGE_WIDTH = 128, 128\n",
    "BATCH_SIZE = 4\n",
    "LEARNING_RATE = 1e-4\n",
    "EPOCHS = 3\n",
    "LAYERS = [32, 64, 128, 256, 512]\n",
    "EARLY_STOPPING_PATIENCE = 10\n",
    "SAVE_INTERVAL = 10\n",
    "NUM_WORKERS = 4\n",
    "DEVICE = 'cuda' if torch.cuda.is_available() else 'cpu'\n",
    "PIN_MEMORY = True if DEVICE == 'cuda' else False\n",
    "LOAD_MODEL = ''\n",
    "USE_WANDB = False\n",
    "DEEP_SUPERVISION = False\n",
    "\n",
    "os.makedirs(LOGS_DIR, exist_ok=True)\n",
    "os.makedirs(CHECKPOINT_DIR, exist_ok=True)\n",
    "\n",
    "print(f'PyTorch version: {torch.__version__}')\n",
    "print(f'Using device: {DEVICE}')"
   ],
   "metadata": {
    "collapsed": false
   }
  },
  {
   "cell_type": "markdown",
   "source": [
    "## Dataset"
   ],
   "metadata": {
    "collapsed": false
   }
  },
  {
   "cell_type": "code",
   "execution_count": null,
   "outputs": [],
   "source": [
    "example_ds = OrigaDataset(IMAGE_DIR, MASK_DIR, os.listdir(IMAGE_DIR)[:1], A.Compose([\n",
    "    A.Resize(height=IMAGE_HEIGHT, width=IMAGE_WIDTH),\n",
    "    A.HorizontalFlip(p=0.5),\n",
    "    A.VerticalFlip(p=0.5),\n",
    "    A.RandomRotate90(p=1.0),  # rotate by 0, 90, 180, or 270 degrees\n",
    "    A.Rotate(limit=30, p=0.33, border_mode=cv.BORDER_CONSTANT),\n",
    "    A.Normalize(mean=[0.0, 0.0, 0.0], std=[1.0, 1.0, 1.0]),\n",
    "    ToTensorV2(),\n",
    "]))\n",
    "example_loader = DataLoader(example_ds, batch_size=1, shuffle=True)\n",
    "\n",
    "example_image, example_mask = next(iter(example_loader))\n",
    "print(f'Image shape: {example_image.shape}')\n",
    "print(f'Mask shape: {example_mask.shape}')\n",
    "\n",
    "unique, counts = np.unique(example_mask, return_counts=True)\n",
    "print(f'Unique values and their counts in mask: {dict(zip(unique, counts))}')\n",
    "\n",
    "# Plot example augmented images and masks\n",
    "fig, ax = plt.subplots(3, 6, figsize=(12, 6))\n",
    "ax = ax.ravel()\n",
    "for i in range(0, 3 * 6, 2):\n",
    "    batch = next(iter(example_loader))\n",
    "    images, masks = batch\n",
    "    image, mask = images[0], masks[0]\n",
    "    image = image.permute(1, 2, 0).numpy()\n",
    "    mask = mask.numpy()\n",
    "    ax[i].imshow(image)\n",
    "    ax[i].axis('off')\n",
    "    ax[i + 1].imshow(mask, cmap='gray')\n",
    "    ax[i + 1].axis('off')\n",
    "plt.show()"
   ],
   "metadata": {
    "collapsed": false
   }
  },
  {
   "cell_type": "code",
   "execution_count": null,
   "outputs": [],
   "source": [
    "train_transform = A.Compose([\n",
    "    A.Resize(height=IMAGE_HEIGHT, width=IMAGE_WIDTH),\n",
    "    A.HorizontalFlip(p=0.5),\n",
    "    A.VerticalFlip(p=0.5),\n",
    "    A.RandomRotate90(p=1.0),\n",
    "    # A.Rotate(limit=30, p=0.25, border_mode=cv.BORDER_CONSTANT),\n",
    "    # A.Normalize(mean=ORIGA_MEANS, std=ORIGA_STDS),\n",
    "    ToTensorV2()\n",
    "])\n",
    "\n",
    "val_transform = A.Compose([\n",
    "    A.Resize(height=IMAGE_HEIGHT, width=IMAGE_WIDTH),\n",
    "    # A.Normalize(mean=ORIGA_MEANS, std=ORIGA_STDS),\n",
    "    ToTensorV2()\n",
    "])\n",
    "\n",
    "train_ds, val_ds, test_ds = load_origa(\n",
    "    IMAGE_DIR, MASK_DIR, train_transform, val_transform, val_transform,\n",
    "    train_size=0.7, val_size=0.15, test_size=0.15,\n",
    "    # train_size=0.01, val_size=0.01, test_size=0.98,\n",
    ")\n",
    "\n",
    "print(f'Train size: {len(train_ds)}')\n",
    "print(f'Validation size: {len(val_ds)}')\n",
    "print(f'Test size: {len(test_ds)}')\n",
    "\n",
    "train_loader = DataLoader(train_ds, batch_size=BATCH_SIZE, shuffle=True, pin_memory=PIN_MEMORY, num_workers=NUM_WORKERS)\n",
    "val_loader = DataLoader(val_ds, batch_size=BATCH_SIZE, shuffle=False, pin_memory=PIN_MEMORY, num_workers=NUM_WORKERS)\n",
    "test_loader = DataLoader(test_ds, batch_size=BATCH_SIZE, shuffle=False, pin_memory=PIN_MEMORY, num_workers=NUM_WORKERS)"
   ],
   "metadata": {
    "collapsed": false
   }
  },
  {
   "cell_type": "markdown",
   "source": [
    "## Model"
   ],
   "metadata": {
    "collapsed": false
   }
  },
  {
   "cell_type": "code",
   "execution_count": null,
   "outputs": [],
   "source": [
    "# initialize model, loss, optimizer, scheduler, scaler, ...\n",
    "model = UNet(in_channels=3, out_channels=3, features=LAYERS).to(DEVICE)\n",
    "# model = UNetPlusPlus(in_channels=3, out_channels=3, features=LAYERS, deep_supervision=DEEP_SUPERVISION).to(DEVICE)\n",
    "# model = UNet3Plus(in_channels=3, out_channels=3, features=LAYERS, deep_supervision=DEEP_SUPERVISION).to(DEVICE)\n",
    "\n",
    "# model = AttentionUNet(in_channels=3, out_channels=3, features=LAYERS).to(DEVICE)\n",
    "# model = InceptionUNet(in_channels=3, out_channels=3, features=LAYERS).to(DEVICE)\n",
    "\n",
    "# model = ResUNet(in_channels=3, out_channels=3, features=LAYERS).to(DEVICE)\n",
    "# model = RUNet(in_channels=3, out_channels=3, features=LAYERS).to(DEVICE)\n",
    "# model = R2UNet(in_channels=3, out_channels=3, features=LAYERS).to(DEVICE)\n",
    "\n",
    "# model = SqueezeUNet(in_channels=3, out_channels=3, features=LAYERS).to(DEVICE)\n",
    "\n",
    "# model = R2AttentionUNet(in_channels=3, out_channels=3, features=LAYERS).to(DEVICE)\n",
    "# model = R2UNetPlusPlus(in_channels=3, out_channels=3, features=LAYERS).to(DEVICE)\n",
    "\n",
    "# model = ResAttentionUNetPlusPlus(in_channels=3, out_channels=3, features=LAYERS).to(DEVICE)\n",
    "# model = RefUNet3PlusCBAM(in_channels=3, out_channels=3, features=LAYERS).to(DEVICE)\n",
    "\n",
    "optimizer = optim.Adam(model.parameters(), lr=LEARNING_RATE)\n",
    "\n",
    "# criterion = nn.CrossEntropyLoss()  # softmax layer is already included inside nn.CrossEntropyLoss()\n",
    "criterion = DiceLoss(num_classes=3, class_weights=[1.0, 1.0, 1.0])\n",
    "# criterion = IoULoss(num_classes=3, class_weights=[1.0, 1.0, 1.0])\n",
    "# criterion = FocalLoss(alpha=0.25, gamma=2)\n",
    "# criterion = TverskyLoss(num_classes=3, alpha=0.5, beta=0.5, class_weights=[1.0, 1.0, 1.0])\n",
    "# criterion = FocalTverskyLoss(num_classes=3, alpha=0.5, beta=0.5, gamma=1.0, class_weights=[1.0, 1.0, 1.0])\n",
    "\n",
    "# scheduler = None\n",
    "scheduler = optim.lr_scheduler.ReduceLROnPlateau(optimizer, factor=0.1, patience=5, verbose=True)\n",
    "\n",
    "scaler = None\n",
    "# scaler = torch.cuda.amp.GradScaler()\n",
    "\n",
    "if LOAD_MODEL:\n",
    "    load_checkpoint(LOAD_MODEL, model, optimizer)"
   ],
   "metadata": {
    "collapsed": false
   }
  },
  {
   "cell_type": "markdown",
   "source": [
    "## Training"
   ],
   "metadata": {
    "collapsed": false
   }
  },
  {
   "cell_type": "code",
   "execution_count": null,
   "outputs": [],
   "source": [
    "hist = train_multiclass(\n",
    "    model, criterion, optimizer, EPOCHS, DEVICE, train_loader, val_loader, scheduler, scaler,\n",
    "    save_interval=SAVE_INTERVAL, early_stopping_patience=EARLY_STOPPING_PATIENCE,\n",
    "    log_to_wandb=USE_WANDB, log_dir=LOGS_DIR, checkpoint_dir=CHECKPOINT_DIR,\n",
    "    save_best_model=False,\n",
    ")"
   ],
   "metadata": {
    "collapsed": false
   }
  },
  {
   "cell_type": "code",
   "execution_count": null,
   "outputs": [],
   "source": [
    "# Plot metrics\n",
    "used_metrics = sorted([m[6:] for m in hist.keys() if m.startswith('train_')])\n",
    "fig, ax = plt.subplots(4, 4, figsize=(14, 8))\n",
    "ax = ax.ravel()\n",
    "\n",
    "for i, metric in enumerate(used_metrics):\n",
    "    ax[i].plot(hist[f'train_{metric}'], label=f'train')\n",
    "    ax[i].plot(hist[f'val_{metric}'], label=f'val')\n",
    "    ax[i].set_title(metric[0].upper() + metric[1:].replace('_', ' '))\n",
    "    if metric != 'loss':\n",
    "        ax[i].set_ylim(top=1)\n",
    "    ax[i].legend()\n",
    "\n",
    "for ax in ax[len(used_metrics):]:\n",
    "    ax.axis('off')\n",
    "\n",
    "plt.tight_layout()\n",
    "plt.show()"
   ],
   "metadata": {
    "collapsed": false
   }
  },
  {
   "cell_type": "markdown",
   "source": [
    "## Testing"
   ],
   "metadata": {
    "collapsed": false
   }
  },
  {
   "cell_type": "code",
   "execution_count": null,
   "outputs": [],
   "source": [
    "results = evaluate(model, criterion, DEVICE, test_loader)"
   ],
   "metadata": {
    "collapsed": false
   }
  },
  {
   "cell_type": "code",
   "execution_count": null,
   "outputs": [],
   "source": [
    "plot_results_from_loader(test_loader, model, DEVICE, types='all', n_samples=4, save_path=f'{LOGS_DIR}/evaluation.png')"
   ],
   "metadata": {
    "collapsed": false
   }
  },
  {
   "cell_type": "code",
   "execution_count": null,
   "outputs": [],
   "source": [],
   "metadata": {
    "collapsed": false
   }
  },
  {
   "cell_type": "markdown",
   "source": [
    "## Work in progress"
   ],
   "metadata": {
    "collapsed": false
   }
  },
  {
   "cell_type": "code",
   "execution_count": null,
   "outputs": [],
   "source": [
    "# torch.save(model.state_dict(), CHECKPOINT_DIR + 'model.pth')\n",
    "\n",
    "checkpoint = torch.load(CHECKPOINT_DIR + 'model.pth')\n",
    "model = UNet(in_channels=3, out_channels=3).to(DEVICE)\n",
    "model.load_state_dict(checkpoint)"
   ],
   "metadata": {
    "collapsed": false
   }
  },
  {
   "cell_type": "code",
   "execution_count": null,
   "outputs": [],
   "source": [
    "model = UNet(in_channels=3, out_channels=1).to(DEVICE)\n",
    "loss = DiceLoss(num_classes=1)\n",
    "# loss = GeneralizedDice(num_classes=1)\n",
    "# loss = IoULoss(num_classes=1)\n",
    "# loss = FocalLoss(num_classes=1)\n",
    "# loss = TverskyLoss(num_classes=1)\n",
    "# loss = FocalTverskyLoss(num_classes=1)\n",
    "# loss = HausdorffLoss(idc=[0])\n",
    "# loss = BoundaryLoss(idc=[0])\n",
    "optimizer = optim.Adam(model.parameters(), lr=LEARNING_RATE)\n",
    "\n",
    "for epoch in range(5):\n",
    "    acc_loss = 0\n",
    "    for images, masks in val_loader:\n",
    "        images = images.float().to(DEVICE)\n",
    "        masks = masks.long().to(DEVICE)\n",
    "        masks = torch.where(masks > 0, torch.tensor(1).to(DEVICE), torch.tensor(0).to(DEVICE))\n",
    "\n",
    "        outputs = model(images)\n",
    "        loss_value = loss(outputs, masks)\n",
    "        acc_loss += loss_value.item()\n",
    "\n",
    "        optimizer.zero_grad()\n",
    "        loss_value.backward()\n",
    "        optimizer.step()\n",
    "\n",
    "    # plot example\n",
    "    images = images.cpu().numpy()\n",
    "    masks = masks.cpu().numpy()\n",
    "    # probs = F.softmax(outputs, dim=1)\n",
    "    # preds = torch.argmax(probs, dim=1).cpu().numpy()\n",
    "    probs = torch.sigmoid(outputs)\n",
    "    preds = (probs > 0.5).float().cpu().numpy().transpose(0, 2, 3, 1)\n",
    "\n",
    "    fig, ax = plt.subplots(1, 3, figsize=(15, 5))\n",
    "    ax[0].imshow(images[0].transpose(1, 2, 0) / 255.0)\n",
    "    ax[1].imshow(masks[0])\n",
    "    ax[2].imshow(preds[0])\n",
    "    plt.show()\n",
    "\n",
    "    print(f'Epoch {epoch + 1} loss:', acc_loss / len(val_loader))\n"
   ],
   "metadata": {
    "collapsed": false
   }
  },
  {
   "cell_type": "code",
   "execution_count": null,
   "outputs": [],
   "source": [],
   "metadata": {
    "collapsed": false
   }
  },
  {
   "cell_type": "code",
   "execution_count": null,
   "outputs": [],
   "source": [],
   "metadata": {
    "collapsed": false
   }
  },
  {
   "cell_type": "code",
   "execution_count": null,
   "outputs": [],
   "source": [],
   "metadata": {
    "collapsed": false
   }
  },
  {
   "cell_type": "code",
   "execution_count": null,
   "outputs": [],
   "source": [],
   "metadata": {
    "collapsed": false
   }
  },
  {
   "cell_type": "code",
   "execution_count": null,
   "outputs": [],
   "source": [
    "from scipy.ndimage import distance_transform_edt as eucl_distance\n",
    "\n",
    "\n",
    "def one_hot2hd_dist(seg: np.ndarray, resolution: tuple[float, float, float] = None,\n",
    "                    dtype=None) -> np.ndarray:\n",
    "    \"\"\"\n",
    "    Used for https://arxiv.org/pdf/1904.10030.pdf,\n",
    "    implementation from https://github.com/JunMa11/SegWithDistMap\n",
    "    \"\"\"\n",
    "    # Relasx the assertion to allow computation live on only a\n",
    "    # subset of the classes\n",
    "    # assert one_hot(torch.tensor(seg), axis=0)\n",
    "    K: int = len(seg)\n",
    "\n",
    "    res = np.zeros_like(seg, dtype=dtype)\n",
    "    for k in range(K):\n",
    "        posmask = seg[k].astype(np.uint8)\n",
    "\n",
    "        if posmask.any():\n",
    "            pos_edt = eucl_distance(posmask, sampling=resolution)\n",
    "            res[k] = pos_edt\n",
    "\n",
    "    return res\n",
    "\n",
    "\n",
    "class HausdorffLoss(nn.Module):\n",
    "\n",
    "    def __init__(self, idc):\n",
    "        super(HausdorffLoss, self).__init__()\n",
    "        self.idc: list[int] = idc\n",
    "\n",
    "    def forward(self, logits, target):\n",
    "        probs = F.softmax(logits, dim=1)\n",
    "        target = F.one_hot(target, num_classes=probs.shape[1]).permute(0, 3, 1, 2)\n",
    "\n",
    "        B, K, *xyz = probs.shape\n",
    "\n",
    "        pc = probs[:, self.idc, ...].float()\n",
    "        tc = target[:, self.idc, ...].float()\n",
    "        assert pc.shape == tc.shape == (B, len(self.idc), *xyz)\n",
    "\n",
    "        target_dm_npy: np.ndarray = np.stack([one_hot2hd_dist(tc[b].cpu().detach().numpy())\n",
    "                                              for b in range(B)], axis=0)\n",
    "        assert target_dm_npy.shape == tc.shape == pc.shape\n",
    "        tdm = torch.tensor(target_dm_npy, device=probs.device, dtype=torch.float32)\n",
    "\n",
    "        pred_segmentation = torch.argmax(probs, dim=1)\n",
    "        pred_segmentation = F.one_hot(pred_segmentation, num_classes=K).permute(0, 3, 1, 2).cpu().detach().numpy()\n",
    "        pred_dm_npy: np.nparray = np.stack([one_hot2hd_dist(pred_segmentation[b, self.idc, ...]) for b in range(B)],\n",
    "                                           axis=0)\n",
    "        assert pred_dm_npy.shape == tc.shape == pc.shape\n",
    "        pdm = torch.tensor(pred_dm_npy, device=probs.device, dtype=torch.float32)\n",
    "\n",
    "        delta = (pc - tc) ** 2\n",
    "        dtm = tdm ** 2 + pdm ** 2\n",
    "\n",
    "        multiplied = einsum(\"bkwh,bkwh->bkwh\", delta, dtm)\n",
    "\n",
    "        return multiplied.mean()"
   ],
   "metadata": {
    "collapsed": false
   }
  },
  {
   "cell_type": "code",
   "execution_count": null,
   "outputs": [],
   "source": [
    "model = UNet(in_channels=3, out_channels=3, features=LAYERS).to(DEVICE)\n",
    "optimizer = optim.Adam(model.parameters(), lr=LEARNING_RATE)\n",
    "loss = HausdorffLoss(idc=[0, 1, 2])\n",
    "\n",
    "# Example usage within the training loop\n",
    "for epoch in range(5):\n",
    "    acc_loss = 0\n",
    "    for images, masks in val_loader:\n",
    "        images = images.float().to(DEVICE)\n",
    "        masks = masks.long().to(DEVICE)\n",
    "        # print(f'{images.shape = }, {masks.shape = }')\n",
    "\n",
    "        logits = model(images)\n",
    "        # print(f'{logits.shape = }')\n",
    "        seg_loss = loss(logits, masks)\n",
    "        # print(f'{seg_loss = }')\n",
    "        acc_loss += seg_loss.item()\n",
    "\n",
    "        optimizer.zero_grad()\n",
    "        seg_loss.backward()\n",
    "        optimizer.step()\n",
    "        # print()\n",
    "        # break\n",
    "\n",
    "    print(f'Epoch {epoch}: {acc_loss = }')\n",
    "\n",
    "    # plot some images\n",
    "    images = images.cpu().numpy()\n",
    "    masks = masks.cpu().numpy()\n",
    "    probs = F.softmax(logits, dim=1)\n",
    "    preds = torch.argmax(probs, dim=1).cpu().numpy()\n",
    "    # probs = torch.sigmoid(outputs)\n",
    "    # preds = (probs > 0.5).float().cpu().numpy().transpose(0, 2, 3, 1)\n",
    "\n",
    "    fig, ax = plt.subplots(1, 3, figsize=(9, 3))\n",
    "    ax[0].imshow(images[0].transpose(1, 2, 0) / 255.0)\n",
    "    ax[1].imshow(masks[0])\n",
    "    ax[2].imshow(preds[0])\n",
    "    plt.show()\n",
    "    # break"
   ],
   "metadata": {
    "collapsed": false
   }
  },
  {
   "cell_type": "code",
   "execution_count": null,
   "outputs": [],
   "source": [],
   "metadata": {
    "collapsed": false
   }
  },
  {
   "cell_type": "markdown",
   "source": [
    "## Boundary loss - Official code"
   ],
   "metadata": {
    "collapsed": false
   }
  },
  {
   "cell_type": "code",
   "execution_count": null,
   "outputs": [],
   "source": [
    "from scipy.ndimage import distance_transform_edt as edt\n",
    "from torch import einsum\n",
    "\n",
    "\n",
    "def one_hot_to_dist_maps(one_hot):\n",
    "    n_classes = len(one_hot)\n",
    "    dist_maps = np.zeros_like(one_hot)\n",
    "\n",
    "    for i in range(n_classes):\n",
    "        pos_mask = one_hot[i].astype(np.uint8)\n",
    "\n",
    "        if pos_mask.any():\n",
    "            neg_mask = ~pos_mask\n",
    "            pos_dist = edt(pos_mask)\n",
    "            neg_dist = edt(neg_mask)\n",
    "            dist_maps[i] = neg_dist - pos_dist\n",
    "\n",
    "    return dist_maps\n",
    "\n",
    "\n",
    "def labels_to_dist_maps(batched_labels, num_classes):\n",
    "    batched_one_hot = F.one_hot(batched_labels, num_classes).permute(0, 3, 1, 2).cpu().numpy()\n",
    "\n",
    "    batched_dist_maps = np.zeros_like(batched_one_hot)\n",
    "    for i in range(len(batched_one_hot)):\n",
    "        batched_dist_maps[i] = one_hot_to_dist_maps(batched_one_hot[i])\n",
    "\n",
    "    return torch.from_numpy(batched_dist_maps).float()\n",
    "\n",
    "\n",
    "class BoundaryLoss(nn.Module):\n",
    "\n",
    "    def __init__(self, idc):\n",
    "        super(BoundaryLoss, self).__init__()\n",
    "        self.idc = idc\n",
    "        self.num_classes = len(idc)\n",
    "\n",
    "    def forward(self, logits, targets):\n",
    "        probs = F.softmax(logits, dim=1)\n",
    "        # print(f'{probs.shape = }')\n",
    "        # print(f'{targets.shape = }')\n",
    "        dist_maps = labels_to_dist_maps(targets, self.num_classes)\n",
    "        # print(f'{dist_maps.shape = }')\n",
    "\n",
    "        pc = probs[:, self.idc, ...].to(logits.device)\n",
    "        # print(f'{pc.shape = }')\n",
    "        dc = dist_maps[:, self.idc, ...].to(logits.device)\n",
    "        # print(f'{dc.shape = }')\n",
    "\n",
    "        multiplied = einsum(\"bkwh,bkwh->bkwh\", pc, dc)\n",
    "        return multiplied.mean()"
   ],
   "metadata": {
    "collapsed": false
   }
  },
  {
   "cell_type": "code",
   "execution_count": null,
   "outputs": [],
   "source": [
    "model = UNet(in_channels=3, out_channels=3, features=LAYERS).to(DEVICE)\n",
    "optimizer = optim.Adam(model.parameters(), lr=LEARNING_RATE)\n",
    "loss = BoundaryLoss(idc=[0, 1, 2])\n",
    "\n",
    "# Example usage within the training loop\n",
    "for epoch in range(5):\n",
    "    acc_loss = 0\n",
    "    for images, masks in val_loader:\n",
    "        images = images.float().to(DEVICE)\n",
    "        masks = masks.long().to(DEVICE)\n",
    "        # print(f'{images.shape = }, {masks.shape = }')\n",
    "\n",
    "        logits = model(images)\n",
    "        # print(f'{logits.shape = }')\n",
    "        seg_loss = loss(logits, masks)\n",
    "        # print(f'{seg_loss = }')\n",
    "        acc_loss += seg_loss.item()\n",
    "\n",
    "        optimizer.zero_grad()\n",
    "        seg_loss.backward()\n",
    "        optimizer.step()\n",
    "        # print()\n",
    "        # break\n",
    "\n",
    "    print(f'Epoch {epoch}: {acc_loss = }')\n",
    "\n",
    "    # plot some images\n",
    "    images = images.cpu().numpy()\n",
    "    masks = masks.cpu().numpy()\n",
    "    probs = F.softmax(logits, dim=1)\n",
    "    preds = torch.argmax(probs, dim=1).cpu().numpy()\n",
    "    # probs = torch.sigmoid(outputs)\n",
    "    # preds = (probs > 0.5).float().cpu().numpy().transpose(0, 2, 3, 1)\n",
    "\n",
    "    fig, ax = plt.subplots(1, 3, figsize=(9, 3))\n",
    "    ax[0].imshow(images[0].transpose(1, 2, 0) / 255.0)\n",
    "    ax[1].imshow(masks[0])\n",
    "    ax[2].imshow(preds[0])\n",
    "    plt.show()\n",
    "    # break"
   ],
   "metadata": {
    "collapsed": false
   }
  },
  {
   "cell_type": "code",
   "execution_count": null,
   "outputs": [],
   "source": [],
   "metadata": {
    "collapsed": false
   }
  }
 ],
 "metadata": {
  "kernelspec": {
   "display_name": "Python 3",
   "language": "python",
   "name": "python3"
  },
  "language_info": {
   "codemirror_mode": {
    "name": "ipython",
    "version": 2
   },
   "file_extension": ".py",
   "mimetype": "text/x-python",
   "name": "python",
   "nbconvert_exporter": "python",
   "pygments_lexer": "ipython2",
   "version": "2.7.6"
  }
 },
 "nbformat": 4,
 "nbformat_minor": 0
}
