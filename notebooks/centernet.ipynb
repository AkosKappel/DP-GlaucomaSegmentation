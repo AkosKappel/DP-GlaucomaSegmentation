{
 "cells": [
  {
   "cell_type": "markdown",
   "metadata": {},
   "source": [
    "# CenterNet\n"
   ]
  },
  {
   "cell_type": "code",
   "execution_count": 1,
   "metadata": {
    "ExecuteTime": {
     "end_time": "2023-10-19T14:35:58.809850900Z",
     "start_time": "2023-10-19T14:35:49.333496300Z"
    }
   },
   "outputs": [],
   "source": [
    "import albumentations as A\n",
    "import cv2 as cv\n",
    "import matplotlib.pyplot as plt\n",
    "import numpy as np\n",
    "import pandas as pd\n",
    "import os\n",
    "from albumentations.pytorch import ToTensorV2\n",
    "from collections import defaultdict\n",
    "from pathlib import Path\n",
    "from sklearn.model_selection import train_test_split\n",
    "from tqdm.notebook import tqdm\n",
    "\n",
    "import torch\n",
    "import torch.nn as nn\n",
    "import torch.nn.functional as F\n",
    "import torch.optim as optim\n",
    "import torchvision\n",
    "from torch.utils.data import Dataset, DataLoader\n",
    "from torchvision import transforms\n",
    "\n",
    "from ROI.centernet import CenterNet, init_weights\n",
    "from ROI.dataset import (\n",
    "    RoiDataset,\n",
    "    generate_padded_dataset, generate_resized_dataset,\n",
    "    generate_bbox_csv, generate_cropped_dataset)\n",
    "from ROI.train import fit\n",
    "from ROI.helpers import *\n",
    "from ROI.losses import CenterLoss"
   ]
  },
  {
   "cell_type": "markdown",
   "source": [
    "## Prepare dataset for training\n",
    "\n",
    "- Pad high resolution images to square shapes\n",
    "- Resize padded images to 512x512\n",
    "- Generate dataframe with bounding boxes for optic discs\n",
    "- Split dataset into training and validation sets\n"
   ],
   "metadata": {
    "collapsed": false
   }
  },
  {
   "cell_type": "code",
   "execution_count": 2,
   "outputs": [],
   "source": [
    "ORIGA_DIR = '../data/ORIGA'\n",
    "DATA_DIR = ORIGA_DIR\n",
    "CSV_FILE = ORIGA_DIR + '/origa.csv'"
   ],
   "metadata": {
    "collapsed": false,
    "ExecuteTime": {
     "end_time": "2023-10-19T14:35:58.825473500Z",
     "start_time": "2023-10-19T14:35:58.809850900Z"
    }
   }
  },
  {
   "cell_type": "code",
   "execution_count": 3,
   "outputs": [
    {
     "data": {
      "text/plain": "Generating padded dataset:   0%|          | 0/650 [00:00<?, ?it/s]",
      "application/vnd.jupyter.widget-view+json": {
       "version_major": 2,
       "version_minor": 0,
       "model_id": "99afd0adc4ef40438e6c95d48c2ba5f2"
      }
     },
     "metadata": {},
     "output_type": "display_data"
    }
   ],
   "source": [
    "generate_padded_dataset(\n",
    "    src_images_dir=ORIGA_DIR + '/Images',\n",
    "    src_masks_dir=ORIGA_DIR + '/Masks',\n",
    "    dst_images_dir=DATA_DIR + '/Images_Padded',\n",
    "    dst_masks_dir=DATA_DIR + '/Masks_Padded',\n",
    ")"
   ],
   "metadata": {
    "collapsed": false,
    "ExecuteTime": {
     "end_time": "2023-10-19T14:38:52.842401700Z",
     "start_time": "2023-10-19T14:35:58.825473500Z"
    }
   }
  },
  {
   "cell_type": "code",
   "execution_count": 4,
   "outputs": [
    {
     "data": {
      "text/plain": "Generating resized dataset with size (512, 512):   0%|          | 0/650 [00:00<?, ?it/s]",
      "application/vnd.jupyter.widget-view+json": {
       "version_major": 2,
       "version_minor": 0,
       "model_id": "aba8ec9683c24d188ffa522df8b224af"
      }
     },
     "metadata": {},
     "output_type": "display_data"
    }
   ],
   "source": [
    "generate_resized_dataset(\n",
    "    src_images_dir=DATA_DIR + '/Images_Padded',\n",
    "    src_masks_dir=DATA_DIR + '/Masks_Padded',\n",
    "    dst_images_dir=DATA_DIR + '/Images_512x512',\n",
    "    dst_masks_dir=DATA_DIR + '/Masks_512x512',\n",
    "    size=512,\n",
    ")"
   ],
   "metadata": {
    "collapsed": false,
    "ExecuteTime": {
     "end_time": "2023-10-19T14:40:30.328125200Z",
     "start_time": "2023-10-19T14:38:52.855401Z"
    }
   }
  },
  {
   "cell_type": "code",
   "execution_count": 5,
   "outputs": [
    {
     "data": {
      "text/plain": "Generating csv file with bounding box coordinates:   0%|          | 0/650 [00:00<?, ?it/s]",
      "application/vnd.jupyter.widget-view+json": {
       "version_major": 2,
       "version_minor": 0,
       "model_id": "15abf6dd616a4e3e954273dade77257b"
      }
     },
     "metadata": {},
     "output_type": "display_data"
    },
    {
     "data": {
      "text/plain": "                                 image_id  \\\n0    ..\\data\\ORIGA\\Images_512x512\\001.jpg   \n1    ..\\data\\ORIGA\\Images_512x512\\002.jpg   \n2    ..\\data\\ORIGA\\Images_512x512\\003.jpg   \n3    ..\\data\\ORIGA\\Images_512x512\\004.jpg   \n4    ..\\data\\ORIGA\\Images_512x512\\005.jpg   \n..                                    ...   \n645  ..\\data\\ORIGA\\Images_512x512\\646.jpg   \n646  ..\\data\\ORIGA\\Images_512x512\\647.jpg   \n647  ..\\data\\ORIGA\\Images_512x512\\648.jpg   \n648  ..\\data\\ORIGA\\Images_512x512\\649.jpg   \n649  ..\\data\\ORIGA\\Images_512x512\\650.jpg   \n\n                                 mask_id      x      y     w     h  \n0    ..\\data\\ORIGA\\Masks_512x512\\001.png  276.0  215.0  77.0  94.0  \n1    ..\\data\\ORIGA\\Masks_512x512\\002.png  179.0  185.0  72.0  91.0  \n2    ..\\data\\ORIGA\\Masks_512x512\\003.png  163.0  203.0  80.0  84.0  \n3    ..\\data\\ORIGA\\Masks_512x512\\004.png  298.0  218.0  66.0  75.0  \n4    ..\\data\\ORIGA\\Masks_512x512\\005.png  154.0  211.0  75.0  79.0  \n..                                   ...    ...    ...   ...   ...  \n645  ..\\data\\ORIGA\\Masks_512x512\\646.png  245.0  217.0  87.0  83.0  \n646  ..\\data\\ORIGA\\Masks_512x512\\647.png  208.0  164.0  69.0  81.0  \n647  ..\\data\\ORIGA\\Masks_512x512\\648.png  139.0  191.0  69.0  82.0  \n648  ..\\data\\ORIGA\\Masks_512x512\\649.png  265.0  214.0  79.0  72.0  \n649  ..\\data\\ORIGA\\Masks_512x512\\650.png  194.0  227.0  71.0  84.0  \n\n[650 rows x 6 columns]",
      "text/html": "<div>\n<style scoped>\n    .dataframe tbody tr th:only-of-type {\n        vertical-align: middle;\n    }\n\n    .dataframe tbody tr th {\n        vertical-align: top;\n    }\n\n    .dataframe thead th {\n        text-align: right;\n    }\n</style>\n<table border=\"1\" class=\"dataframe\">\n  <thead>\n    <tr style=\"text-align: right;\">\n      <th></th>\n      <th>image_id</th>\n      <th>mask_id</th>\n      <th>x</th>\n      <th>y</th>\n      <th>w</th>\n      <th>h</th>\n    </tr>\n  </thead>\n  <tbody>\n    <tr>\n      <th>0</th>\n      <td>..\\data\\ORIGA\\Images_512x512\\001.jpg</td>\n      <td>..\\data\\ORIGA\\Masks_512x512\\001.png</td>\n      <td>276.0</td>\n      <td>215.0</td>\n      <td>77.0</td>\n      <td>94.0</td>\n    </tr>\n    <tr>\n      <th>1</th>\n      <td>..\\data\\ORIGA\\Images_512x512\\002.jpg</td>\n      <td>..\\data\\ORIGA\\Masks_512x512\\002.png</td>\n      <td>179.0</td>\n      <td>185.0</td>\n      <td>72.0</td>\n      <td>91.0</td>\n    </tr>\n    <tr>\n      <th>2</th>\n      <td>..\\data\\ORIGA\\Images_512x512\\003.jpg</td>\n      <td>..\\data\\ORIGA\\Masks_512x512\\003.png</td>\n      <td>163.0</td>\n      <td>203.0</td>\n      <td>80.0</td>\n      <td>84.0</td>\n    </tr>\n    <tr>\n      <th>3</th>\n      <td>..\\data\\ORIGA\\Images_512x512\\004.jpg</td>\n      <td>..\\data\\ORIGA\\Masks_512x512\\004.png</td>\n      <td>298.0</td>\n      <td>218.0</td>\n      <td>66.0</td>\n      <td>75.0</td>\n    </tr>\n    <tr>\n      <th>4</th>\n      <td>..\\data\\ORIGA\\Images_512x512\\005.jpg</td>\n      <td>..\\data\\ORIGA\\Masks_512x512\\005.png</td>\n      <td>154.0</td>\n      <td>211.0</td>\n      <td>75.0</td>\n      <td>79.0</td>\n    </tr>\n    <tr>\n      <th>...</th>\n      <td>...</td>\n      <td>...</td>\n      <td>...</td>\n      <td>...</td>\n      <td>...</td>\n      <td>...</td>\n    </tr>\n    <tr>\n      <th>645</th>\n      <td>..\\data\\ORIGA\\Images_512x512\\646.jpg</td>\n      <td>..\\data\\ORIGA\\Masks_512x512\\646.png</td>\n      <td>245.0</td>\n      <td>217.0</td>\n      <td>87.0</td>\n      <td>83.0</td>\n    </tr>\n    <tr>\n      <th>646</th>\n      <td>..\\data\\ORIGA\\Images_512x512\\647.jpg</td>\n      <td>..\\data\\ORIGA\\Masks_512x512\\647.png</td>\n      <td>208.0</td>\n      <td>164.0</td>\n      <td>69.0</td>\n      <td>81.0</td>\n    </tr>\n    <tr>\n      <th>647</th>\n      <td>..\\data\\ORIGA\\Images_512x512\\648.jpg</td>\n      <td>..\\data\\ORIGA\\Masks_512x512\\648.png</td>\n      <td>139.0</td>\n      <td>191.0</td>\n      <td>69.0</td>\n      <td>82.0</td>\n    </tr>\n    <tr>\n      <th>648</th>\n      <td>..\\data\\ORIGA\\Images_512x512\\649.jpg</td>\n      <td>..\\data\\ORIGA\\Masks_512x512\\649.png</td>\n      <td>265.0</td>\n      <td>214.0</td>\n      <td>79.0</td>\n      <td>72.0</td>\n    </tr>\n    <tr>\n      <th>649</th>\n      <td>..\\data\\ORIGA\\Images_512x512\\650.jpg</td>\n      <td>..\\data\\ORIGA\\Masks_512x512\\650.png</td>\n      <td>194.0</td>\n      <td>227.0</td>\n      <td>71.0</td>\n      <td>84.0</td>\n    </tr>\n  </tbody>\n</table>\n<p>650 rows × 6 columns</p>\n</div>"
     },
     "execution_count": 5,
     "metadata": {},
     "output_type": "execute_result"
    }
   ],
   "source": [
    "generate_bbox_csv(\n",
    "    images_dir=DATA_DIR + '/Images_512x512',\n",
    "    masks_dir=DATA_DIR + '/Masks_512x512',\n",
    "    csv_file=CSV_FILE,\n",
    "    margin=0,\n",
    ")"
   ],
   "metadata": {
    "collapsed": false,
    "ExecuteTime": {
     "end_time": "2023-10-19T14:40:33.794050200Z",
     "start_time": "2023-10-19T14:40:30.336114200Z"
    }
   }
  },
  {
   "cell_type": "code",
   "execution_count": 6,
   "metadata": {
    "ExecuteTime": {
     "end_time": "2023-10-19T14:40:33.997183300Z",
     "start_time": "2023-10-19T14:40:33.709289900Z"
    }
   },
   "outputs": [
    {
     "name": "stdout",
     "output_type": "stream",
     "text": [
      "Training size: 520\n",
      "Validation size: 130\n"
     ]
    },
    {
     "data": {
      "text/plain": "                               image_id                              mask_id  \\\n0  ..\\data\\ORIGA\\Images_512x512\\001.jpg  ..\\data\\ORIGA\\Masks_512x512\\001.png   \n1  ..\\data\\ORIGA\\Images_512x512\\002.jpg  ..\\data\\ORIGA\\Masks_512x512\\002.png   \n2  ..\\data\\ORIGA\\Images_512x512\\003.jpg  ..\\data\\ORIGA\\Masks_512x512\\003.png   \n3  ..\\data\\ORIGA\\Images_512x512\\004.jpg  ..\\data\\ORIGA\\Masks_512x512\\004.png   \n4  ..\\data\\ORIGA\\Images_512x512\\005.jpg  ..\\data\\ORIGA\\Masks_512x512\\005.png   \n\n       x      y     w     h  \n0  276.0  215.0  77.0  94.0  \n1  179.0  185.0  72.0  91.0  \n2  163.0  203.0  80.0  84.0  \n3  298.0  218.0  66.0  75.0  \n4  154.0  211.0  75.0  79.0  ",
      "text/html": "<div>\n<style scoped>\n    .dataframe tbody tr th:only-of-type {\n        vertical-align: middle;\n    }\n\n    .dataframe tbody tr th {\n        vertical-align: top;\n    }\n\n    .dataframe thead th {\n        text-align: right;\n    }\n</style>\n<table border=\"1\" class=\"dataframe\">\n  <thead>\n    <tr style=\"text-align: right;\">\n      <th></th>\n      <th>image_id</th>\n      <th>mask_id</th>\n      <th>x</th>\n      <th>y</th>\n      <th>w</th>\n      <th>h</th>\n    </tr>\n  </thead>\n  <tbody>\n    <tr>\n      <th>0</th>\n      <td>..\\data\\ORIGA\\Images_512x512\\001.jpg</td>\n      <td>..\\data\\ORIGA\\Masks_512x512\\001.png</td>\n      <td>276.0</td>\n      <td>215.0</td>\n      <td>77.0</td>\n      <td>94.0</td>\n    </tr>\n    <tr>\n      <th>1</th>\n      <td>..\\data\\ORIGA\\Images_512x512\\002.jpg</td>\n      <td>..\\data\\ORIGA\\Masks_512x512\\002.png</td>\n      <td>179.0</td>\n      <td>185.0</td>\n      <td>72.0</td>\n      <td>91.0</td>\n    </tr>\n    <tr>\n      <th>2</th>\n      <td>..\\data\\ORIGA\\Images_512x512\\003.jpg</td>\n      <td>..\\data\\ORIGA\\Masks_512x512\\003.png</td>\n      <td>163.0</td>\n      <td>203.0</td>\n      <td>80.0</td>\n      <td>84.0</td>\n    </tr>\n    <tr>\n      <th>3</th>\n      <td>..\\data\\ORIGA\\Images_512x512\\004.jpg</td>\n      <td>..\\data\\ORIGA\\Masks_512x512\\004.png</td>\n      <td>298.0</td>\n      <td>218.0</td>\n      <td>66.0</td>\n      <td>75.0</td>\n    </tr>\n    <tr>\n      <th>4</th>\n      <td>..\\data\\ORIGA\\Images_512x512\\005.jpg</td>\n      <td>..\\data\\ORIGA\\Masks_512x512\\005.png</td>\n      <td>154.0</td>\n      <td>211.0</td>\n      <td>75.0</td>\n      <td>79.0</td>\n    </tr>\n  </tbody>\n</table>\n</div>"
     },
     "execution_count": 6,
     "metadata": {},
     "output_type": "execute_result"
    }
   ],
   "source": [
    "df = pd.read_csv(CSV_FILE)\n",
    "image_ids = df['image_id'].unique()\n",
    "train_ids, val_ids = train_test_split(image_ids, test_size=0.2, random_state=411)\n",
    "\n",
    "print('Training size:', len(train_ids))\n",
    "print('Validation size:', len(val_ids))\n",
    "\n",
    "df.head()"
   ]
  },
  {
   "cell_type": "markdown",
   "source": [
    "## Train model"
   ],
   "metadata": {
    "collapsed": false
   }
  },
  {
   "cell_type": "code",
   "execution_count": 7,
   "outputs": [],
   "source": [
    "# Hyper-parameters\n",
    "MODEL_PATH = r'C:\\Users\\kappe\\PycharmProjects\\DP-GlaucomaSegmentation\\notebooks\\centernet_resnet18.pth'\n",
    "INPUT_SIZE = 512\n",
    "IN_SCALE = 512 // INPUT_SIZE\n",
    "MODEL_SCALE = 4\n",
    "BATCH_SIZE = 2\n",
    "MODEL_NAME = 'resnet18'\n",
    "DEVICE = torch.device('cuda' if torch.cuda.is_available() else 'cpu')"
   ],
   "metadata": {
    "collapsed": false,
    "ExecuteTime": {
     "end_time": "2023-10-19T14:40:34.012805700Z",
     "start_time": "2023-10-19T14:40:33.748674700Z"
    }
   }
  },
  {
   "cell_type": "code",
   "execution_count": 33,
   "outputs": [
    {
     "name": "stderr",
     "output_type": "stream",
     "text": [
      "Clipping input data to the valid range for imshow with RGB data ([0..1] for floats or [0..255] for integers).\n",
      "Clipping input data to the valid range for imshow with RGB data ([0..1] for floats or [0..255] for integers).\n",
      "Clipping input data to the valid range for imshow with RGB data ([0..1] for floats or [0..255] for integers).\n",
      "Clipping input data to the valid range for imshow with RGB data ([0..1] for floats or [0..255] for integers).\n"
     ]
    },
    {
     "data": {
      "text/plain": "<Figure size 800x800 with 4 Axes>",
      "image/png": "[encoded data removed]"
     },
     "metadata": {},
     "output_type": "display_data"
    }
   ],
   "source": [
    "train_transform = A.Compose([\n",
    "    A.Resize(INPUT_SIZE, INPUT_SIZE, interpolation=cv.INTER_AREA),\n",
    "    A.HorizontalFlip(p=0.5),\n",
    "    A.VerticalFlip(p=0.5),\n",
    "    A.RandomRotate90(p=0.5),\n",
    "    A.RandomBrightnessContrast(p=0.5),\n",
    "    A.RandomGamma(p=0.5),\n",
    "    A.Normalize(mean=(0.9400, 0.6225, 0.3316), std=(0.1557, 0.1727, 0.1556)),\n",
    "    ToTensorV2(),\n",
    "], bbox_params=A.BboxParams(format='coco', label_fields=['labels']))\n",
    "\n",
    "val_transform = A.Compose([\n",
    "    A.Resize(INPUT_SIZE, INPUT_SIZE, interpolation=cv.INTER_AREA),\n",
    "    A.Normalize(mean=(0.9400, 0.6225, 0.3316), std=(0.1557, 0.1727, 0.1556)),\n",
    "    ToTensorV2(),\n",
    "], bbox_params=A.BboxParams(format='coco', label_fields=['labels']))\n",
    "\n",
    "res = []\n",
    "dataset = RoiDataset(train_ids, df, INPUT_SIZE, IN_SCALE, MODEL_SCALE, train_transform)\n",
    "for i in range(4):\n",
    "    img, heatmap, regression, bboxes, *_ = dataset[0]\n",
    "    # img = (img - img.min()) / (img.max() - img.min())\n",
    "    img = img.permute(1, 2, 0).numpy()\n",
    "    # img = (img * 255).astype(np.uint8)\n",
    "    for bbox in bboxes:\n",
    "        x, y, w, h = bbox\n",
    "        x, y, w, h = int(x), int(y), int(w), int(h)\n",
    "        img = cv.rectangle(img, (x, y), (x + w, y + h), (0, 0, 255), 2)\n",
    "    res.append(img)\n",
    "_, ax = plt.subplots(2, 2, figsize=(8, 8))\n",
    "ax = ax.flatten()\n",
    "for i, img in enumerate(res):\n",
    "    ax[i].imshow(img)\n",
    "plt.tight_layout()\n",
    "plt.show()"
   ],
   "metadata": {
    "collapsed": false,
    "ExecuteTime": {
     "end_time": "2023-10-19T15:31:55.554723900Z",
     "start_time": "2023-10-19T15:31:54.402938200Z"
    }
   }
  },
  {
   "cell_type": "code",
   "execution_count": 9,
   "outputs": [],
   "source": [
    "train_dataset = RoiDataset(train_ids, df, INPUT_SIZE, IN_SCALE, MODEL_SCALE, train_transform)\n",
    "val_dataset = RoiDataset(val_ids, df, INPUT_SIZE, IN_SCALE, MODEL_SCALE, val_transform)\n",
    "total_dataset = RoiDataset(image_ids, df, INPUT_SIZE, IN_SCALE, MODEL_SCALE, val_transform)\n",
    "\n",
    "train_loader = DataLoader(train_dataset, batch_size=BATCH_SIZE, shuffle=True, num_workers=0)\n",
    "val_loader = DataLoader(val_dataset, batch_size=BATCH_SIZE, shuffle=False, num_workers=0)\n",
    "total_loader = DataLoader(total_dataset, batch_size=BATCH_SIZE, shuffle=False, num_workers=0)"
   ],
   "metadata": {
    "collapsed": false,
    "ExecuteTime": {
     "end_time": "2023-10-19T14:40:35.471596400Z",
     "start_time": "2023-10-19T14:40:35.440018800Z"
    }
   }
  },
  {
   "cell_type": "code",
   "execution_count": 10,
   "outputs": [
    {
     "name": "stdout",
     "output_type": "stream",
     "text": [
      "Model loaded from C:\\Users\\kappe\\PycharmProjects\\DP-GlaucomaSegmentation\\notebooks\\centernet_resnet18.pth\n"
     ]
    }
   ],
   "source": [
    "model = CenterNet(n_classes=1, base='resnet18')\n",
    "optimizer = optim.Adam(model.parameters(), lr=1e-4)\n",
    "criterion = CenterLoss()\n",
    "scheduler = optim.lr_scheduler.ReduceLROnPlateau(optimizer, patience=5, verbose=True)\n",
    "\n",
    "if MODEL_PATH:\n",
    "    model.load_state_dict(torch.load(MODEL_PATH, map_location=DEVICE))\n",
    "    print('Model loaded from', MODEL_PATH)\n",
    "else:\n",
    "    init_weights(model)\n",
    "model = model.to(DEVICE)"
   ],
   "metadata": {
    "collapsed": false,
    "ExecuteTime": {
     "end_time": "2023-10-19T14:40:36.110085100Z",
     "start_time": "2023-10-19T14:40:35.455638800Z"
    }
   }
  },
  {
   "cell_type": "code",
   "execution_count": null,
   "outputs": [],
   "source": [
    "hist, best_weights = fit(model, optimizer, criterion, DEVICE, train_loader, val_loader,\n",
    "                         epochs=100, scheduler=scheduler, early_stopping_patience=10)\n",
    "print([k for k in hist.keys()])"
   ],
   "metadata": {
    "collapsed": false
   }
  },
  {
   "cell_type": "code",
   "execution_count": null,
   "outputs": [],
   "source": [
    "avg_loss = np.mean(hist['train_loss']) + np.mean(hist['val_loss'])\n",
    "\n",
    "plt.figure(figsize=(8, 8))\n",
    "plt.plot(hist['train_loss'], label='train_loss')\n",
    "plt.plot(hist['val_loss'], label='val_loss')\n",
    "plt.ylim(0, avg_loss * 2)\n",
    "plt.legend()\n",
    "plt.show()"
   ],
   "metadata": {
    "collapsed": false
   }
  },
  {
   "cell_type": "code",
   "execution_count": null,
   "outputs": [],
   "source": [
    "torch.save(model.state_dict(), 'model.pth')\n",
    "torch.save(best_weights, 'best_model.pth')"
   ],
   "metadata": {
    "collapsed": false
   }
  },
  {
   "cell_type": "markdown",
   "metadata": {},
   "source": [
    "## Make predictions"
   ]
  },
  {
   "cell_type": "code",
   "execution_count": 11,
   "outputs": [
    {
     "data": {
      "text/plain": "Detecting optic discs:   0%|          | 0/325 [00:00<?, ?it/s]",
      "application/vnd.jupyter.widget-view+json": {
       "version_major": 2,
       "version_minor": 0,
       "model_id": "3cc6bb14774845ba8c8200af14922c68"
      }
     },
     "metadata": {},
     "output_type": "display_data"
    },
    {
     "name": "stdout",
     "output_type": "stream",
     "text": [
      "Found 650 bounding boxes.\n"
     ]
    },
    {
     "data": {
      "text/plain": "                                image_id                              mask_id  \\\n0   ..\\data\\ORIGA\\Images_512x512\\001.jpg  ..\\data\\ORIGA\\Masks_512x512\\001.png   \n0   ..\\data\\ORIGA\\Images_512x512\\002.jpg  ..\\data\\ORIGA\\Masks_512x512\\002.png   \n0   ..\\data\\ORIGA\\Images_512x512\\003.jpg  ..\\data\\ORIGA\\Masks_512x512\\003.png   \n0   ..\\data\\ORIGA\\Images_512x512\\004.jpg  ..\\data\\ORIGA\\Masks_512x512\\004.png   \n0   ..\\data\\ORIGA\\Images_512x512\\005.jpg  ..\\data\\ORIGA\\Masks_512x512\\005.png   \n..                                   ...                                  ...   \n0   ..\\data\\ORIGA\\Images_512x512\\646.jpg  ..\\data\\ORIGA\\Masks_512x512\\646.png   \n0   ..\\data\\ORIGA\\Images_512x512\\647.jpg  ..\\data\\ORIGA\\Masks_512x512\\647.png   \n0   ..\\data\\ORIGA\\Images_512x512\\648.jpg  ..\\data\\ORIGA\\Masks_512x512\\648.png   \n0   ..\\data\\ORIGA\\Images_512x512\\649.jpg  ..\\data\\ORIGA\\Masks_512x512\\649.png   \n0   ..\\data\\ORIGA\\Images_512x512\\650.jpg  ..\\data\\ORIGA\\Masks_512x512\\650.png   \n\n      x    y    w    h  \n0   249  200  120  120  \n0   151  164  125  125  \n0   144  182  117  117  \n0   274  193  115  115  \n0   129  189  121  121  \n..  ...  ...  ...  ...  \n0   226  197  119  119  \n0   176  141  123  123  \n0   114  169  115  115  \n0   247  191  115  115  \n0   165  204  121  121  \n\n[650 rows x 6 columns]",
      "text/html": "<div>\n<style scoped>\n    .dataframe tbody tr th:only-of-type {\n        vertical-align: middle;\n    }\n\n    .dataframe tbody tr th {\n        vertical-align: top;\n    }\n\n    .dataframe thead th {\n        text-align: right;\n    }\n</style>\n<table border=\"1\" class=\"dataframe\">\n  <thead>\n    <tr style=\"text-align: right;\">\n      <th></th>\n      <th>image_id</th>\n      <th>mask_id</th>\n      <th>x</th>\n      <th>y</th>\n      <th>w</th>\n      <th>h</th>\n    </tr>\n  </thead>\n  <tbody>\n    <tr>\n      <th>0</th>\n      <td>..\\data\\ORIGA\\Images_512x512\\001.jpg</td>\n      <td>..\\data\\ORIGA\\Masks_512x512\\001.png</td>\n      <td>249</td>\n      <td>200</td>\n      <td>120</td>\n      <td>120</td>\n    </tr>\n    <tr>\n      <th>0</th>\n      <td>..\\data\\ORIGA\\Images_512x512\\002.jpg</td>\n      <td>..\\data\\ORIGA\\Masks_512x512\\002.png</td>\n      <td>151</td>\n      <td>164</td>\n      <td>125</td>\n      <td>125</td>\n    </tr>\n    <tr>\n      <th>0</th>\n      <td>..\\data\\ORIGA\\Images_512x512\\003.jpg</td>\n      <td>..\\data\\ORIGA\\Masks_512x512\\003.png</td>\n      <td>144</td>\n      <td>182</td>\n      <td>117</td>\n      <td>117</td>\n    </tr>\n    <tr>\n      <th>0</th>\n      <td>..\\data\\ORIGA\\Images_512x512\\004.jpg</td>\n      <td>..\\data\\ORIGA\\Masks_512x512\\004.png</td>\n      <td>274</td>\n      <td>193</td>\n      <td>115</td>\n      <td>115</td>\n    </tr>\n    <tr>\n      <th>0</th>\n      <td>..\\data\\ORIGA\\Images_512x512\\005.jpg</td>\n      <td>..\\data\\ORIGA\\Masks_512x512\\005.png</td>\n      <td>129</td>\n      <td>189</td>\n      <td>121</td>\n      <td>121</td>\n    </tr>\n    <tr>\n      <th>...</th>\n      <td>...</td>\n      <td>...</td>\n      <td>...</td>\n      <td>...</td>\n      <td>...</td>\n      <td>...</td>\n    </tr>\n    <tr>\n      <th>0</th>\n      <td>..\\data\\ORIGA\\Images_512x512\\646.jpg</td>\n      <td>..\\data\\ORIGA\\Masks_512x512\\646.png</td>\n      <td>226</td>\n      <td>197</td>\n      <td>119</td>\n      <td>119</td>\n    </tr>\n    <tr>\n      <th>0</th>\n      <td>..\\data\\ORIGA\\Images_512x512\\647.jpg</td>\n      <td>..\\data\\ORIGA\\Masks_512x512\\647.png</td>\n      <td>176</td>\n      <td>141</td>\n      <td>123</td>\n      <td>123</td>\n    </tr>\n    <tr>\n      <th>0</th>\n      <td>..\\data\\ORIGA\\Images_512x512\\648.jpg</td>\n      <td>..\\data\\ORIGA\\Masks_512x512\\648.png</td>\n      <td>114</td>\n      <td>169</td>\n      <td>115</td>\n      <td>115</td>\n    </tr>\n    <tr>\n      <th>0</th>\n      <td>..\\data\\ORIGA\\Images_512x512\\649.jpg</td>\n      <td>..\\data\\ORIGA\\Masks_512x512\\649.png</td>\n      <td>247</td>\n      <td>191</td>\n      <td>115</td>\n      <td>115</td>\n    </tr>\n    <tr>\n      <th>0</th>\n      <td>..\\data\\ORIGA\\Images_512x512\\650.jpg</td>\n      <td>..\\data\\ORIGA\\Masks_512x512\\650.png</td>\n      <td>165</td>\n      <td>204</td>\n      <td>121</td>\n      <td>121</td>\n    </tr>\n  </tbody>\n</table>\n<p>650 rows × 6 columns</p>\n</div>"
     },
     "execution_count": 11,
     "metadata": {},
     "output_type": "execute_result"
    }
   ],
   "source": [
    "disc_df = detect_optic_discs(model, total_loader, DEVICE, INPUT_SIZE, MODEL_SCALE, out_file=DATA_DIR + '/centernet.csv')\n",
    "disc_df"
   ],
   "metadata": {
    "collapsed": false,
    "ExecuteTime": {
     "end_time": "2023-10-19T14:50:38.771298200Z",
     "start_time": "2023-10-19T14:40:36.094415900Z"
    }
   }
  },
  {
   "cell_type": "code",
   "execution_count": 14,
   "outputs": [
    {
     "data": {
      "text/plain": "Generating cropped optic disc dataset:   0%|          | 0/650 [00:00<?, ?it/s]",
      "application/vnd.jupyter.widget-view+json": {
       "version_major": 2,
       "version_minor": 0,
       "model_id": "d9c605db49714713af97ecc2d49c497a"
      }
     },
     "metadata": {},
     "output_type": "display_data"
    }
   ],
   "source": [
    "generate_cropped_dataset(\n",
    "    disc_df,\n",
    "    src_images_dir=DATA_DIR + '/Images_Padded',\n",
    "    src_masks_dir=DATA_DIR + '/Masks_Padded',\n",
    "    dst_images_dir=DATA_DIR + '/Images_CenterNet_Cropped',\n",
    "    dst_masks_dir=DATA_DIR + '/Masks_CenterNet_Cropped',\n",
    "    size=512,\n",
    ")"
   ],
   "metadata": {
    "collapsed": false,
    "ExecuteTime": {
     "end_time": "2023-10-19T15:02:17.384228300Z",
     "start_time": "2023-10-19T15:00:22.529558500Z"
    }
   }
  },
  {
   "cell_type": "code",
   "execution_count": 13,
   "outputs": [],
   "source": [],
   "metadata": {
    "collapsed": false,
    "ExecuteTime": {
     "end_time": "2023-10-19T15:00:13.393219100Z",
     "start_time": "2023-10-19T15:00:13.315054Z"
    }
   }
  }
 ],
 "metadata": {
  "kernelspec": {
   "display_name": "Python 3",
   "language": "python",
   "name": "python3"
  },
  "language_info": {
   "codemirror_mode": {
    "name": "ipython",
    "version": 3
   },
   "file_extension": ".py",
   "mimetype": "text/x-python",
   "name": "python",
   "nbconvert_exporter": "python",
   "pygments_lexer": "ipython3",
   "version": "3.7.6"
  },
  "widgets": {
   "application/vnd.jupyter.widget-state+json": {
    "state": {
     "029a2eee25194f47828ff397368b4c09": {
      "model_module": "@jupyter-widgets/base",
      "model_module_version": "1.2.0",
      "model_name": "LayoutModel",
      "state": {
       "_model_module": "@jupyter-widgets/base",
       "_model_module_version": "1.2.0",
       "_model_name": "LayoutModel",
       "_view_count": null,
       "_view_module": "@jupyter-widgets/base",
       "_view_module_version": "1.2.0",
       "_view_name": "LayoutView",
       "align_content": null,
       "align_items": null,
       "align_self": null,
       "border": null,
       "bottom": null,
       "display": null,
       "flex": null,
       "flex_flow": null,
       "grid_area": null,
       "grid_auto_columns": null,
       "grid_auto_flow": null,
       "grid_auto_rows": null,
       "grid_column": null,
       "grid_gap": null,
       "grid_row": null,
       "grid_template_areas": null,
       "grid_template_columns": null,
       "grid_template_rows": null,
       "height": null,
       "justify_content": null,
       "justify_items": null,
       "left": null,
       "margin": null,
       "max_height": null,
       "max_width": null,
       "min_height": null,
       "min_width": null,
       "object_fit": null,
       "object_position": null,
       "order": null,
       "overflow": null,
       "overflow_x": null,
       "overflow_y": null,
       "padding": null,
       "right": null,
       "top": null,
       "visibility": null,
       "width": null
      }
     },
     "0304acae05364d5abe1defb7145d8cea": {
      "model_module": "@jupyter-widgets/controls",
      "model_module_version": "1.5.0",
      "model_name": "HBoxModel",
      "state": {
       "_dom_classes": [],
       "_model_module": "@jupyter-widgets/controls",
       "_model_module_version": "1.5.0",
       "_model_name": "HBoxModel",
       "_view_count": null,
       "_view_module": "@jupyter-widgets/controls",
       "_view_module_version": "1.5.0",
       "_view_name": "HBoxView",
       "box_style": "",
       "children": [
        "IPY_MODEL_e5db705713134f4cb728bad5640d6fbb",
        "IPY_MODEL_8168a31c520842d3a04dbd3a092fc4d8"
       ],
       "layout": "IPY_MODEL_203c36f98f034f609c08468f187955a1"
      }
     },
     "041d045bc4784c76b8f5cfff60cab8e9": {
      "model_module": "@jupyter-widgets/base",
      "model_module_version": "1.2.0",
      "model_name": "LayoutModel",
      "state": {
       "_model_module": "@jupyter-widgets/base",
       "_model_module_version": "1.2.0",
       "_model_name": "LayoutModel",
       "_view_count": null,
       "_view_module": "@jupyter-widgets/base",
       "_view_module_version": "1.2.0",
       "_view_name": "LayoutView",
       "align_content": null,
       "align_items": null,
       "align_self": null,
       "border": null,
       "bottom": null,
       "display": null,
       "flex": null,
       "flex_flow": null,
       "grid_area": null,
       "grid_auto_columns": null,
       "grid_auto_flow": null,
       "grid_auto_rows": null,
       "grid_column": null,
       "grid_gap": null,
       "grid_row": null,
       "grid_template_areas": null,
       "grid_template_columns": null,
       "grid_template_rows": null,
       "height": null,
       "justify_content": null,
       "justify_items": null,
       "left": null,
       "margin": null,
       "max_height": null,
       "max_width": null,
       "min_height": null,
       "min_width": null,
       "object_fit": null,
       "object_position": null,
       "order": null,
       "overflow": null,
       "overflow_x": null,
       "overflow_y": null,
       "padding": null,
       "right": null,
       "top": null,
       "visibility": null,
       "width": null
      }
     },
     "06411b10f84f4d448ef2dd6c50a8b30a": {
      "model_module": "@jupyter-widgets/controls",
      "model_module_version": "1.5.0",
      "model_name": "DescriptionStyleModel",
      "state": {
       "_model_module": "@jupyter-widgets/controls",
       "_model_module_version": "1.5.0",
       "_model_name": "DescriptionStyleModel",
       "_view_count": null,
       "_view_module": "@jupyter-widgets/base",
       "_view_module_version": "1.2.0",
       "_view_name": "StyleView",
       "description_width": ""
      }
     },
     "06a39b27e53743f18aaa3b922ff3ed94": {
      "model_module": "@jupyter-widgets/base",
      "model_module_version": "1.2.0",
      "model_name": "LayoutModel",
      "state": {
       "_model_module": "@jupyter-widgets/base",
       "_model_module_version": "1.2.0",
       "_model_name": "LayoutModel",
       "_view_count": null,
       "_view_module": "@jupyter-widgets/base",
       "_view_module_version": "1.2.0",
       "_view_name": "LayoutView",
       "align_content": null,
       "align_items": null,
       "align_self": null,
       "border": null,
       "bottom": null,
       "display": null,
       "flex": null,
       "flex_flow": null,
       "grid_area": null,
       "grid_auto_columns": null,
       "grid_auto_flow": null,
       "grid_auto_rows": null,
       "grid_column": null,
       "grid_gap": null,
       "grid_row": null,
       "grid_template_areas": null,
       "grid_template_columns": null,
       "grid_template_rows": null,
       "height": null,
       "justify_content": null,
       "justify_items": null,
       "left": null,
       "margin": null,
       "max_height": null,
       "max_width": null,
       "min_height": null,
       "min_width": null,
       "object_fit": null,
       "object_position": null,
       "order": null,
       "overflow": null,
       "overflow_x": null,
       "overflow_y": null,
       "padding": null,
       "right": null,
       "top": null,
       "visibility": null,
       "width": null
      }
     },
     "10e895201a9c4553b9c23f0d5e9de9cf": {
      "model_module": "@jupyter-widgets/controls",
      "model_module_version": "1.5.0",
      "model_name": "ProgressStyleModel",
      "state": {
       "_model_module": "@jupyter-widgets/controls",
       "_model_module_version": "1.5.0",
       "_model_name": "ProgressStyleModel",
       "_view_count": null,
       "_view_module": "@jupyter-widgets/base",
       "_view_module_version": "1.2.0",
       "_view_name": "StyleView",
       "bar_color": null,
       "description_width": "initial"
      }
     },
     "1196f97437a24b8b810d655b57dc9d18": {
      "model_module": "@jupyter-widgets/controls",
      "model_module_version": "1.5.0",
      "model_name": "ProgressStyleModel",
      "state": {
       "_model_module": "@jupyter-widgets/controls",
       "_model_module_version": "1.5.0",
       "_model_name": "ProgressStyleModel",
       "_view_count": null,
       "_view_module": "@jupyter-widgets/base",
       "_view_module_version": "1.2.0",
       "_view_name": "StyleView",
       "bar_color": null,
       "description_width": "initial"
      }
     },
     "12746391b5aa441c8c05ac851423f2f2": {
      "model_module": "@jupyter-widgets/controls",
      "model_module_version": "1.5.0",
      "model_name": "HBoxModel",
      "state": {
       "_dom_classes": [],
       "_model_module": "@jupyter-widgets/controls",
       "_model_module_version": "1.5.0",
       "_model_name": "HBoxModel",
       "_view_count": null,
       "_view_module": "@jupyter-widgets/controls",
       "_view_module_version": "1.5.0",
       "_view_name": "HBoxView",
       "box_style": "",
       "children": [
        "IPY_MODEL_1b6da411bbc64de1ad50f18c3d521883",
        "IPY_MODEL_e9658eef41d74c88acaa4ea01a67cfe5"
       ],
       "layout": "IPY_MODEL_7d51bb6fff15417fb71bd73047aabbda"
      }
     },
     "1b6af3fe804b42688667a8807dc2bb82": {
      "model_module": "@jupyter-widgets/controls",
      "model_module_version": "1.5.0",
      "model_name": "ProgressStyleModel",
      "state": {
       "_model_module": "@jupyter-widgets/controls",
       "_model_module_version": "1.5.0",
       "_model_name": "ProgressStyleModel",
       "_view_count": null,
       "_view_module": "@jupyter-widgets/base",
       "_view_module_version": "1.2.0",
       "_view_name": "StyleView",
       "bar_color": null,
       "description_width": "initial"
      }
     },
     "1b6da411bbc64de1ad50f18c3d521883": {
      "model_module": "@jupyter-widgets/controls",
      "model_module_version": "1.5.0",
      "model_name": "FloatProgressModel",
      "state": {
       "_dom_classes": [],
       "_model_module": "@jupyter-widgets/controls",
       "_model_module_version": "1.5.0",
       "_model_name": "FloatProgressModel",
       "_view_count": null,
       "_view_module": "@jupyter-widgets/controls",
       "_view_module_version": "1.5.0",
       "_view_name": "ProgressView",
       "bar_style": "success",
       "description": "t (l=0.762)(m=0.7024)(r=0.0596): 100%",
       "description_tooltip": null,
       "layout": "IPY_MODEL_c354f6ac379b438f8ea2ed16ada7c343",
       "max": 1349.0,
       "min": 0.0,
       "orientation": "horizontal",
       "style": "IPY_MODEL_8169d15c71d046e683a89331fbff1f87",
       "value": 1349.0
      }
     },
     "1d396053275d4bccafc27afaa26d2105": {
      "model_module": "@jupyter-widgets/controls",
      "model_module_version": "1.5.0",
      "model_name": "HBoxModel",
      "state": {
       "_dom_classes": [],
       "_model_module": "@jupyter-widgets/controls",
       "_model_module_version": "1.5.0",
       "_model_name": "HBoxModel",
       "_view_count": null,
       "_view_module": "@jupyter-widgets/controls",
       "_view_module_version": "1.5.0",
       "_view_name": "HBoxView",
       "box_style": "",
       "children": [
        "IPY_MODEL_2b96671df86e4f27aa5a70e06968e090",
        "IPY_MODEL_565b1b4f1765433a88ba25d23890b57d"
       ],
       "layout": "IPY_MODEL_06a39b27e53743f18aaa3b922ff3ed94"
      }
     },
     "203c36f98f034f609c08468f187955a1": {
      "model_module": "@jupyter-widgets/base",
      "model_module_version": "1.2.0",
      "model_name": "LayoutModel",
      "state": {
       "_model_module": "@jupyter-widgets/base",
       "_model_module_version": "1.2.0",
       "_model_name": "LayoutModel",
       "_view_count": null,
       "_view_module": "@jupyter-widgets/base",
       "_view_module_version": "1.2.0",
       "_view_name": "LayoutView",
       "align_content": null,
       "align_items": null,
       "align_self": null,
       "border": null,
       "bottom": null,
       "display": null,
       "flex": null,
       "flex_flow": null,
       "grid_area": null,
       "grid_auto_columns": null,
       "grid_auto_flow": null,
       "grid_auto_rows": null,
       "grid_column": null,
       "grid_gap": null,
       "grid_row": null,
       "grid_template_areas": null,
       "grid_template_columns": null,
       "grid_template_rows": null,
       "height": null,
       "justify_content": null,
       "justify_items": null,
       "left": null,
       "margin": null,
       "max_height": null,
       "max_width": null,
       "min_height": null,
       "min_width": null,
       "object_fit": null,
       "object_position": null,
       "order": null,
       "overflow": null,
       "overflow_x": null,
       "overflow_y": null,
       "padding": null,
       "right": null,
       "top": null,
       "visibility": null,
       "width": null
      }
     },
     "2b96671df86e4f27aa5a70e06968e090": {
      "model_module": "@jupyter-widgets/controls",
      "model_module_version": "1.5.0",
      "model_name": "FloatProgressModel",
      "state": {
       "_dom_classes": [],
       "_model_module": "@jupyter-widgets/controls",
       "_model_module_version": "1.5.0",
       "_model_name": "FloatProgressModel",
       "_view_count": null,
       "_view_module": "@jupyter-widgets/controls",
       "_view_module_version": "1.5.0",
       "_view_name": "ProgressView",
       "bar_style": "success",
       "description": "t (l=2.009)(m=1.9211)(r=0.0876): 100%",
       "description_tooltip": null,
       "layout": "IPY_MODEL_6cd1dc8672684d2a9883dedb8639c7bf",
       "max": 1349.0,
       "min": 0.0,
       "orientation": "horizontal",
       "style": "IPY_MODEL_10e895201a9c4553b9c23f0d5e9de9cf",
       "value": 1349.0
      }
     },
     "2dcc9ae4b71c4b44a952a6f73cfe426e": {
      "model_module": "@jupyter-widgets/controls",
      "model_module_version": "1.5.0",
      "model_name": "FloatProgressModel",
      "state": {
       "_dom_classes": [],
       "_model_module": "@jupyter-widgets/controls",
       "_model_module_version": "1.5.0",
       "_model_name": "FloatProgressModel",
       "_view_count": null,
       "_view_module": "@jupyter-widgets/controls",
       "_view_module_version": "1.5.0",
       "_view_name": "ProgressView",
       "bar_style": "success",
       "description": "t (l=0.988)(m=0.9205)(r=0.0670): 100%",
       "description_tooltip": null,
       "layout": "IPY_MODEL_979ef73bcb0942eab6f9933b93f5697d",
       "max": 1349.0,
       "min": 0.0,
       "orientation": "horizontal",
       "style": "IPY_MODEL_56a66502a1024f2e807fdf062e996fd4",
       "value": 1349.0
      }
     },
     "3d774291ca13483490aa8863fc6bc004": {
      "model_module": "@jupyter-widgets/base",
      "model_module_version": "1.2.0",
      "model_name": "LayoutModel",
      "state": {
       "_model_module": "@jupyter-widgets/base",
       "_model_module_version": "1.2.0",
       "_model_name": "LayoutModel",
       "_view_count": null,
       "_view_module": "@jupyter-widgets/base",
       "_view_module_version": "1.2.0",
       "_view_name": "LayoutView",
       "align_content": null,
       "align_items": null,
       "align_self": null,
       "border": null,
       "bottom": null,
       "display": null,
       "flex": null,
       "flex_flow": null,
       "grid_area": null,
       "grid_auto_columns": null,
       "grid_auto_flow": null,
       "grid_auto_rows": null,
       "grid_column": null,
       "grid_gap": null,
       "grid_row": null,
       "grid_template_areas": null,
       "grid_template_columns": null,
       "grid_template_rows": null,
       "height": null,
       "justify_content": null,
       "justify_items": null,
       "left": null,
       "margin": null,
       "max_height": null,
       "max_width": null,
       "min_height": null,
       "min_width": null,
       "object_fit": null,
       "object_position": null,
       "order": null,
       "overflow": null,
       "overflow_x": null,
       "overflow_y": null,
       "padding": null,
       "right": null,
       "top": null,
       "visibility": null,
       "width": null
      }
     },
     "4e5a4b00768940a4b37c57dfa64f8764": {
      "model_module": "@jupyter-widgets/base",
      "model_module_version": "1.2.0",
      "model_name": "LayoutModel",
      "state": {
       "_model_module": "@jupyter-widgets/base",
       "_model_module_version": "1.2.0",
       "_model_name": "LayoutModel",
       "_view_count": null,
       "_view_module": "@jupyter-widgets/base",
       "_view_module_version": "1.2.0",
       "_view_name": "LayoutView",
       "align_content": null,
       "align_items": null,
       "align_self": null,
       "border": null,
       "bottom": null,
       "display": null,
       "flex": null,
       "flex_flow": null,
       "grid_area": null,
       "grid_auto_columns": null,
       "grid_auto_flow": null,
       "grid_auto_rows": null,
       "grid_column": null,
       "grid_gap": null,
       "grid_row": null,
       "grid_template_areas": null,
       "grid_template_columns": null,
       "grid_template_rows": null,
       "height": null,
       "justify_content": null,
       "justify_items": null,
       "left": null,
       "margin": null,
       "max_height": null,
       "max_width": null,
       "min_height": null,
       "min_width": null,
       "object_fit": null,
       "object_position": null,
       "order": null,
       "overflow": null,
       "overflow_x": null,
       "overflow_y": null,
       "padding": null,
       "right": null,
       "top": null,
       "visibility": null,
       "width": null
      }
     },
     "565b1b4f1765433a88ba25d23890b57d": {
      "model_module": "@jupyter-widgets/controls",
      "model_module_version": "1.5.0",
      "model_name": "HTMLModel",
      "state": {
       "_dom_classes": [],
       "_model_module": "@jupyter-widgets/controls",
       "_model_module_version": "1.5.0",
       "_model_name": "HTMLModel",
       "_view_count": null,
       "_view_module": "@jupyter-widgets/controls",
       "_view_module_version": "1.5.0",
       "_view_name": "HTMLView",
       "description": "",
       "description_tooltip": null,
       "layout": "IPY_MODEL_4e5a4b00768940a4b37c57dfa64f8764",
       "placeholder": "​",
       "style": "IPY_MODEL_06411b10f84f4d448ef2dd6c50a8b30a",
       "value": " 1349/1349 [21:31&lt;00:00,  1.04it/s]"
      }
     },
     "56a66502a1024f2e807fdf062e996fd4": {
      "model_module": "@jupyter-widgets/controls",
      "model_module_version": "1.5.0",
      "model_name": "ProgressStyleModel",
      "state": {
       "_model_module": "@jupyter-widgets/controls",
       "_model_module_version": "1.5.0",
       "_model_name": "ProgressStyleModel",
       "_view_count": null,
       "_view_module": "@jupyter-widgets/base",
       "_view_module_version": "1.2.0",
       "_view_name": "StyleView",
       "bar_color": null,
       "description_width": "initial"
      }
     },
     "5a80845919874ab4b69da07eae2037e4": {
      "model_module": "@jupyter-widgets/controls",
      "model_module_version": "1.5.0",
      "model_name": "HTMLModel",
      "state": {
       "_dom_classes": [],
       "_model_module": "@jupyter-widgets/controls",
       "_model_module_version": "1.5.0",
       "_model_name": "HTMLModel",
       "_view_count": null,
       "_view_module": "@jupyter-widgets/controls",
       "_view_module_version": "1.5.0",
       "_view_name": "HTMLView",
       "description": "",
       "description_tooltip": null,
       "layout": "IPY_MODEL_041d045bc4784c76b8f5cfff60cab8e9",
       "placeholder": "​",
       "style": "IPY_MODEL_d558150867de4003bed48d391ab06186",
       "value": " 1349/1349 [04:16&lt;00:00,  5.26it/s]"
      }
     },
     "6b6bbcc535ba4985aed0fbf94f27199b": {
      "model_module": "@jupyter-widgets/controls",
      "model_module_version": "1.5.0",
      "model_name": "HBoxModel",
      "state": {
       "_dom_classes": [],
       "_model_module": "@jupyter-widgets/controls",
       "_model_module_version": "1.5.0",
       "_model_name": "HBoxModel",
       "_view_count": null,
       "_view_module": "@jupyter-widgets/controls",
       "_view_module_version": "1.5.0",
       "_view_name": "HBoxView",
       "box_style": "",
       "children": [
        "IPY_MODEL_2dcc9ae4b71c4b44a952a6f73cfe426e",
        "IPY_MODEL_5a80845919874ab4b69da07eae2037e4"
       ],
       "layout": "IPY_MODEL_c686ca30e8ca48fea34070c9e56c0f6c"
      }
     },
     "6c50495613894e19810ad270e9cf2a3d": {
      "model_module": "@jupyter-widgets/base",
      "model_module_version": "1.2.0",
      "model_name": "LayoutModel",
      "state": {
       "_model_module": "@jupyter-widgets/base",
       "_model_module_version": "1.2.0",
       "_model_name": "LayoutModel",
       "_view_count": null,
       "_view_module": "@jupyter-widgets/base",
       "_view_module_version": "1.2.0",
       "_view_name": "LayoutView",
       "align_content": null,
       "align_items": null,
       "align_self": null,
       "border": null,
       "bottom": null,
       "display": null,
       "flex": null,
       "flex_flow": null,
       "grid_area": null,
       "grid_auto_columns": null,
       "grid_auto_flow": null,
       "grid_auto_rows": null,
       "grid_column": null,
       "grid_gap": null,
       "grid_row": null,
       "grid_template_areas": null,
       "grid_template_columns": null,
       "grid_template_rows": null,
       "height": null,
       "justify_content": null,
       "justify_items": null,
       "left": null,
       "margin": null,
       "max_height": null,
       "max_width": null,
       "min_height": null,
       "min_width": null,
       "object_fit": null,
       "object_position": null,
       "order": null,
       "overflow": null,
       "overflow_x": null,
       "overflow_y": null,
       "padding": null,
       "right": null,
       "top": null,
       "visibility": null,
       "width": null
      }
     },
     "6cd1dc8672684d2a9883dedb8639c7bf": {
      "model_module": "@jupyter-widgets/base",
      "model_module_version": "1.2.0",
      "model_name": "LayoutModel",
      "state": {
       "_model_module": "@jupyter-widgets/base",
       "_model_module_version": "1.2.0",
       "_model_name": "LayoutModel",
       "_view_count": null,
       "_view_module": "@jupyter-widgets/base",
       "_view_module_version": "1.2.0",
       "_view_name": "LayoutView",
       "align_content": null,
       "align_items": null,
       "align_self": null,
       "border": null,
       "bottom": null,
       "display": null,
       "flex": null,
       "flex_flow": null,
       "grid_area": null,
       "grid_auto_columns": null,
       "grid_auto_flow": null,
       "grid_auto_rows": null,
       "grid_column": null,
       "grid_gap": null,
       "grid_row": null,
       "grid_template_areas": null,
       "grid_template_columns": null,
       "grid_template_rows": null,
       "height": null,
       "justify_content": null,
       "justify_items": null,
       "left": null,
       "margin": null,
       "max_height": null,
       "max_width": null,
       "min_height": null,
       "min_width": null,
       "object_fit": null,
       "object_position": null,
       "order": null,
       "overflow": null,
       "overflow_x": null,
       "overflow_y": null,
       "padding": null,
       "right": null,
       "top": null,
       "visibility": null,
       "width": null
      }
     },
     "72e8a5b6130d4a71881090b9bb0f2c18": {
      "model_module": "@jupyter-widgets/controls",
      "model_module_version": "1.5.0",
      "model_name": "DescriptionStyleModel",
      "state": {
       "_model_module": "@jupyter-widgets/controls",
       "_model_module_version": "1.5.0",
       "_model_name": "DescriptionStyleModel",
       "_view_count": null,
       "_view_module": "@jupyter-widgets/base",
       "_view_module_version": "1.2.0",
       "_view_name": "StyleView",
       "description_width": ""
      }
     },
     "7cf3eb879db347c5af8d568d12c624a7": {
      "model_module": "@jupyter-widgets/controls",
      "model_module_version": "1.5.0",
      "model_name": "DescriptionStyleModel",
      "state": {
       "_model_module": "@jupyter-widgets/controls",
       "_model_module_version": "1.5.0",
       "_model_name": "DescriptionStyleModel",
       "_view_count": null,
       "_view_module": "@jupyter-widgets/base",
       "_view_module_version": "1.2.0",
       "_view_name": "StyleView",
       "description_width": ""
      }
     },
     "7d51bb6fff15417fb71bd73047aabbda": {
      "model_module": "@jupyter-widgets/base",
      "model_module_version": "1.2.0",
      "model_name": "LayoutModel",
      "state": {
       "_model_module": "@jupyter-widgets/base",
       "_model_module_version": "1.2.0",
       "_model_name": "LayoutModel",
       "_view_count": null,
       "_view_module": "@jupyter-widgets/base",
       "_view_module_version": "1.2.0",
       "_view_name": "LayoutView",
       "align_content": null,
       "align_items": null,
       "align_self": null,
       "border": null,
       "bottom": null,
       "display": null,
       "flex": null,
       "flex_flow": null,
       "grid_area": null,
       "grid_auto_columns": null,
       "grid_auto_flow": null,
       "grid_auto_rows": null,
       "grid_column": null,
       "grid_gap": null,
       "grid_row": null,
       "grid_template_areas": null,
       "grid_template_columns": null,
       "grid_template_rows": null,
       "height": null,
       "justify_content": null,
       "justify_items": null,
       "left": null,
       "margin": null,
       "max_height": null,
       "max_width": null,
       "min_height": null,
       "min_width": null,
       "object_fit": null,
       "object_position": null,
       "order": null,
       "overflow": null,
       "overflow_x": null,
       "overflow_y": null,
       "padding": null,
       "right": null,
       "top": null,
       "visibility": null,
       "width": null
      }
     },
     "8168a31c520842d3a04dbd3a092fc4d8": {
      "model_module": "@jupyter-widgets/controls",
      "model_module_version": "1.5.0",
      "model_name": "HTMLModel",
      "state": {
       "_dom_classes": [],
       "_model_module": "@jupyter-widgets/controls",
       "_model_module_version": "1.5.0",
       "_model_name": "HTMLModel",
       "_view_count": null,
       "_view_module": "@jupyter-widgets/controls",
       "_view_module_version": "1.5.0",
       "_view_name": "HTMLView",
       "description": "",
       "description_tooltip": null,
       "layout": "IPY_MODEL_a084774667bf4fc4b0f601885e608472",
       "placeholder": "​",
       "style": "IPY_MODEL_e038a368b4374f3abffbea955a2df946",
       "value": " 1349/1349 [08:39&lt;00:00,  2.60it/s]"
      }
     },
     "8169d15c71d046e683a89331fbff1f87": {
      "model_module": "@jupyter-widgets/controls",
      "model_module_version": "1.5.0",
      "model_name": "ProgressStyleModel",
      "state": {
       "_model_module": "@jupyter-widgets/controls",
       "_model_module_version": "1.5.0",
       "_model_name": "ProgressStyleModel",
       "_view_count": null,
       "_view_module": "@jupyter-widgets/base",
       "_view_module_version": "1.2.0",
       "_view_name": "StyleView",
       "bar_color": null,
       "description_width": "initial"
      }
     },
     "8e6db6415d784f739aa911ba41bae47d": {
      "model_module": "@jupyter-widgets/base",
      "model_module_version": "1.2.0",
      "model_name": "LayoutModel",
      "state": {
       "_model_module": "@jupyter-widgets/base",
       "_model_module_version": "1.2.0",
       "_model_name": "LayoutModel",
       "_view_count": null,
       "_view_module": "@jupyter-widgets/base",
       "_view_module_version": "1.2.0",
       "_view_name": "LayoutView",
       "align_content": null,
       "align_items": null,
       "align_self": null,
       "border": null,
       "bottom": null,
       "display": null,
       "flex": null,
       "flex_flow": null,
       "grid_area": null,
       "grid_auto_columns": null,
       "grid_auto_flow": null,
       "grid_auto_rows": null,
       "grid_column": null,
       "grid_gap": null,
       "grid_row": null,
       "grid_template_areas": null,
       "grid_template_columns": null,
       "grid_template_rows": null,
       "height": null,
       "justify_content": null,
       "justify_items": null,
       "left": null,
       "margin": null,
       "max_height": null,
       "max_width": null,
       "min_height": null,
       "min_width": null,
       "object_fit": null,
       "object_position": null,
       "order": null,
       "overflow": null,
       "overflow_x": null,
       "overflow_y": null,
       "padding": null,
       "right": null,
       "top": null,
       "visibility": null,
       "width": null
      }
     },
     "979ef73bcb0942eab6f9933b93f5697d": {
      "model_module": "@jupyter-widgets/base",
      "model_module_version": "1.2.0",
      "model_name": "LayoutModel",
      "state": {
       "_model_module": "@jupyter-widgets/base",
       "_model_module_version": "1.2.0",
       "_model_name": "LayoutModel",
       "_view_count": null,
       "_view_module": "@jupyter-widgets/base",
       "_view_module_version": "1.2.0",
       "_view_name": "LayoutView",
       "align_content": null,
       "align_items": null,
       "align_self": null,
       "border": null,
       "bottom": null,
       "display": null,
       "flex": null,
       "flex_flow": null,
       "grid_area": null,
       "grid_auto_columns": null,
       "grid_auto_flow": null,
       "grid_auto_rows": null,
       "grid_column": null,
       "grid_gap": null,
       "grid_row": null,
       "grid_template_areas": null,
       "grid_template_columns": null,
       "grid_template_rows": null,
       "height": null,
       "justify_content": null,
       "justify_items": null,
       "left": null,
       "margin": null,
       "max_height": null,
       "max_width": null,
       "min_height": null,
       "min_width": null,
       "object_fit": null,
       "object_position": null,
       "order": null,
       "overflow": null,
       "overflow_x": null,
       "overflow_y": null,
       "padding": null,
       "right": null,
       "top": null,
       "visibility": null,
       "width": null
      }
     },
     "a084774667bf4fc4b0f601885e608472": {
      "model_module": "@jupyter-widgets/base",
      "model_module_version": "1.2.0",
      "model_name": "LayoutModel",
      "state": {
       "_model_module": "@jupyter-widgets/base",
       "_model_module_version": "1.2.0",
       "_model_name": "LayoutModel",
       "_view_count": null,
       "_view_module": "@jupyter-widgets/base",
       "_view_module_version": "1.2.0",
       "_view_name": "LayoutView",
       "align_content": null,
       "align_items": null,
       "align_self": null,
       "border": null,
       "bottom": null,
       "display": null,
       "flex": null,
       "flex_flow": null,
       "grid_area": null,
       "grid_auto_columns": null,
       "grid_auto_flow": null,
       "grid_auto_rows": null,
       "grid_column": null,
       "grid_gap": null,
       "grid_row": null,
       "grid_template_areas": null,
       "grid_template_columns": null,
       "grid_template_rows": null,
       "height": null,
       "justify_content": null,
       "justify_items": null,
       "left": null,
       "margin": null,
       "max_height": null,
       "max_width": null,
       "min_height": null,
       "min_width": null,
       "object_fit": null,
       "object_position": null,
       "order": null,
       "overflow": null,
       "overflow_x": null,
       "overflow_y": null,
       "padding": null,
       "right": null,
       "top": null,
       "visibility": null,
       "width": null
      }
     },
     "b297ef402f4547a9a677f516c252d092": {
      "model_module": "@jupyter-widgets/controls",
      "model_module_version": "1.5.0",
      "model_name": "FloatProgressModel",
      "state": {
       "_dom_classes": [],
       "_model_module": "@jupyter-widgets/controls",
       "_model_module_version": "1.5.0",
       "_model_name": "FloatProgressModel",
       "_view_count": null,
       "_view_module": "@jupyter-widgets/controls",
       "_view_module_version": "1.5.0",
       "_view_name": "ProgressView",
       "bar_style": "success",
       "description": "100%",
       "description_tooltip": null,
       "layout": "IPY_MODEL_6c50495613894e19810ad270e9cf2a3d",
       "max": 5.0,
       "min": 0.0,
       "orientation": "horizontal",
       "style": "IPY_MODEL_1196f97437a24b8b810d655b57dc9d18",
       "value": 5.0
      }
     },
     "bcd385c9c46a4bc3b1f716482d332efc": {
      "model_module": "@jupyter-widgets/base",
      "model_module_version": "1.2.0",
      "model_name": "LayoutModel",
      "state": {
       "_model_module": "@jupyter-widgets/base",
       "_model_module_version": "1.2.0",
       "_model_name": "LayoutModel",
       "_view_count": null,
       "_view_module": "@jupyter-widgets/base",
       "_view_module_version": "1.2.0",
       "_view_name": "LayoutView",
       "align_content": null,
       "align_items": null,
       "align_self": null,
       "border": null,
       "bottom": null,
       "display": null,
       "flex": null,
       "flex_flow": null,
       "grid_area": null,
       "grid_auto_columns": null,
       "grid_auto_flow": null,
       "grid_auto_rows": null,
       "grid_column": null,
       "grid_gap": null,
       "grid_row": null,
       "grid_template_areas": null,
       "grid_template_columns": null,
       "grid_template_rows": null,
       "height": null,
       "justify_content": null,
       "justify_items": null,
       "left": null,
       "margin": null,
       "max_height": null,
       "max_width": null,
       "min_height": null,
       "min_width": null,
       "object_fit": null,
       "object_position": null,
       "order": null,
       "overflow": null,
       "overflow_x": null,
       "overflow_y": null,
       "padding": null,
       "right": null,
       "top": null,
       "visibility": null,
       "width": null
      }
     },
     "c354f6ac379b438f8ea2ed16ada7c343": {
      "model_module": "@jupyter-widgets/base",
      "model_module_version": "1.2.0",
      "model_name": "LayoutModel",
      "state": {
       "_model_module": "@jupyter-widgets/base",
       "_model_module_version": "1.2.0",
       "_model_name": "LayoutModel",
       "_view_count": null,
       "_view_module": "@jupyter-widgets/base",
       "_view_module_version": "1.2.0",
       "_view_name": "LayoutView",
       "align_content": null,
       "align_items": null,
       "align_self": null,
       "border": null,
       "bottom": null,
       "display": null,
       "flex": null,
       "flex_flow": null,
       "grid_area": null,
       "grid_auto_columns": null,
       "grid_auto_flow": null,
       "grid_auto_rows": null,
       "grid_column": null,
       "grid_gap": null,
       "grid_row": null,
       "grid_template_areas": null,
       "grid_template_columns": null,
       "grid_template_rows": null,
       "height": null,
       "justify_content": null,
       "justify_items": null,
       "left": null,
       "margin": null,
       "max_height": null,
       "max_width": null,
       "min_height": null,
       "min_width": null,
       "object_fit": null,
       "object_position": null,
       "order": null,
       "overflow": null,
       "overflow_x": null,
       "overflow_y": null,
       "padding": null,
       "right": null,
       "top": null,
       "visibility": null,
       "width": null
      }
     },
     "c686ca30e8ca48fea34070c9e56c0f6c": {
      "model_module": "@jupyter-widgets/base",
      "model_module_version": "1.2.0",
      "model_name": "LayoutModel",
      "state": {
       "_model_module": "@jupyter-widgets/base",
       "_model_module_version": "1.2.0",
       "_model_name": "LayoutModel",
       "_view_count": null,
       "_view_module": "@jupyter-widgets/base",
       "_view_module_version": "1.2.0",
       "_view_name": "LayoutView",
       "align_content": null,
       "align_items": null,
       "align_self": null,
       "border": null,
       "bottom": null,
       "display": null,
       "flex": null,
       "flex_flow": null,
       "grid_area": null,
       "grid_auto_columns": null,
       "grid_auto_flow": null,
       "grid_auto_rows": null,
       "grid_column": null,
       "grid_gap": null,
       "grid_row": null,
       "grid_template_areas": null,
       "grid_template_columns": null,
       "grid_template_rows": null,
       "height": null,
       "justify_content": null,
       "justify_items": null,
       "left": null,
       "margin": null,
       "max_height": null,
       "max_width": null,
       "min_height": null,
       "min_width": null,
       "object_fit": null,
       "object_position": null,
       "order": null,
       "overflow": null,
       "overflow_x": null,
       "overflow_y": null,
       "padding": null,
       "right": null,
       "top": null,
       "visibility": null,
       "width": null
      }
     },
     "d558150867de4003bed48d391ab06186": {
      "model_module": "@jupyter-widgets/controls",
      "model_module_version": "1.5.0",
      "model_name": "DescriptionStyleModel",
      "state": {
       "_model_module": "@jupyter-widgets/controls",
       "_model_module_version": "1.5.0",
       "_model_name": "DescriptionStyleModel",
       "_view_count": null,
       "_view_module": "@jupyter-widgets/base",
       "_view_module_version": "1.2.0",
       "_view_name": "StyleView",
       "description_width": ""
      }
     },
     "df9861a635284b7ea7e6ba8b5e4f412f": {
      "model_module": "@jupyter-widgets/controls",
      "model_module_version": "1.5.0",
      "model_name": "HTMLModel",
      "state": {
       "_dom_classes": [],
       "_model_module": "@jupyter-widgets/controls",
       "_model_module_version": "1.5.0",
       "_model_name": "HTMLModel",
       "_view_count": null,
       "_view_module": "@jupyter-widgets/controls",
       "_view_module_version": "1.5.0",
       "_view_name": "HTMLView",
       "description": "",
       "description_tooltip": null,
       "layout": "IPY_MODEL_029a2eee25194f47828ff397368b4c09",
       "placeholder": "​",
       "style": "IPY_MODEL_72e8a5b6130d4a71881090b9bb0f2c18",
       "value": " 5/5 [00:01&lt;00:00,  3.02it/s]"
      }
     },
     "e038a368b4374f3abffbea955a2df946": {
      "model_module": "@jupyter-widgets/controls",
      "model_module_version": "1.5.0",
      "model_name": "DescriptionStyleModel",
      "state": {
       "_model_module": "@jupyter-widgets/controls",
       "_model_module_version": "1.5.0",
       "_model_name": "DescriptionStyleModel",
       "_view_count": null,
       "_view_module": "@jupyter-widgets/base",
       "_view_module_version": "1.2.0",
       "_view_name": "StyleView",
       "description_width": ""
      }
     },
     "e5db705713134f4cb728bad5640d6fbb": {
      "model_module": "@jupyter-widgets/controls",
      "model_module_version": "1.5.0",
      "model_name": "FloatProgressModel",
      "state": {
       "_dom_classes": [],
       "_model_module": "@jupyter-widgets/controls",
       "_model_module_version": "1.5.0",
       "_model_name": "FloatProgressModel",
       "_view_count": null,
       "_view_module": "@jupyter-widgets/controls",
       "_view_module_version": "1.5.0",
       "_view_name": "ProgressView",
       "bar_style": "",
       "description": "t (l=0.812)(m=0.7523)(r=0.0602):  34%",
       "description_tooltip": null,
       "layout": "IPY_MODEL_bcd385c9c46a4bc3b1f716482d332efc",
       "max": 1349.0,
       "min": 0.0,
       "orientation": "horizontal",
       "style": "IPY_MODEL_1b6af3fe804b42688667a8807dc2bb82",
       "value": 462.0
      }
     },
     "e9658eef41d74c88acaa4ea01a67cfe5": {
      "model_module": "@jupyter-widgets/controls",
      "model_module_version": "1.5.0",
      "model_name": "HTMLModel",
      "state": {
       "_dom_classes": [],
       "_model_module": "@jupyter-widgets/controls",
       "_model_module_version": "1.5.0",
       "_model_name": "HTMLModel",
       "_view_count": null,
       "_view_module": "@jupyter-widgets/controls",
       "_view_module_version": "1.5.0",
       "_view_name": "HTMLView",
       "description": "",
       "description_tooltip": null,
       "layout": "IPY_MODEL_8e6db6415d784f739aa911ba41bae47d",
       "placeholder": "​",
       "style": "IPY_MODEL_7cf3eb879db347c5af8d568d12c624a7",
       "value": " 1349/1349 [12:54&lt;00:00,  1.74it/s]"
      }
     },
     "eda4896db6bf4c6b99adde553c3e35f1": {
      "model_module": "@jupyter-widgets/controls",
      "model_module_version": "1.5.0",
      "model_name": "HBoxModel",
      "state": {
       "_dom_classes": [],
       "_model_module": "@jupyter-widgets/controls",
       "_model_module_version": "1.5.0",
       "_model_name": "HBoxModel",
       "_view_count": null,
       "_view_module": "@jupyter-widgets/controls",
       "_view_module_version": "1.5.0",
       "_view_name": "HBoxView",
       "box_style": "",
       "children": [
        "IPY_MODEL_b297ef402f4547a9a677f516c252d092",
        "IPY_MODEL_df9861a635284b7ea7e6ba8b5e4f412f"
       ],
       "layout": "IPY_MODEL_3d774291ca13483490aa8863fc6bc004"
      }
     }
    },
    "version_major": 2,
    "version_minor": 0
   }
  }
 },
 "nbformat": 4,
 "nbformat_minor": 4
}
