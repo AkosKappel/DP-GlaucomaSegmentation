{
 "cells": [
  {
   "cell_type": "markdown",
   "source": [
    "# Region of Interest (ROI) Extraction from ORIGA dataset images"
   ],
   "metadata": {
    "collapsed": false
   },
   "id": "5b2c93029bc3f04b"
  },
  {
   "cell_type": "markdown",
   "source": [
    "## Findings so far:\n",
    "- brightest spot & template matching works pretty well\n",
    "- intensity weighted centroid is not very good\n",
    "- thresholding a channel gives too big ROI areas\n",
    "- TM can be improved by using more templates and averaging the results\n",
    "- TM takes too long (use rescaled smaller image and template)\n",
    "- BS often cuts through the OD (try to find other method for cropping the square around the brightest point)\n",
    "- combination of TM followed by TC gives slight improvement (could be further improved by using dist. transform)\n"
   ],
   "metadata": {
    "collapsed": false
   },
   "id": "6692ed681b03db04"
  },
  {
   "cell_type": "code",
   "execution_count": 1,
   "id": "initial_id",
   "metadata": {
    "collapsed": true,
    "ExecuteTime": {
     "end_time": "2023-10-21T18:49:33.281704900Z",
     "start_time": "2023-10-21T18:49:32.815819100Z"
    }
   },
   "outputs": [],
   "source": [
    "import cv2 as cv\n",
    "import matplotlib.pyplot as plt\n",
    "import os"
   ]
  },
  {
   "cell_type": "code",
   "execution_count": 2,
   "outputs": [],
   "source": [
    "DATA_DIR = '../data/ORIGA'\n",
    "IMAGES_DIR = DATA_DIR + '/Images_Padded'\n",
    "MASKS_DIR = DATA_DIR + '/Masks_Padded'\n",
    "\n",
    "files = sorted(os.listdir(IMAGES_DIR))\n",
    "file = os.path.join(IMAGES_DIR, files[143])\n",
    "img = cv.imread(file)\n",
    "img = cv.cvtColor(img, cv.COLOR_BGR2RGB)\n",
    "\n",
    "plt.imshow(img)\n",
    "plt.show()"
   ],
   "metadata": {
    "collapsed": false,
    "ExecuteTime": {
     "end_time": "2023-10-21T18:49:33.483964500Z",
     "start_time": "2023-10-21T18:49:33.290028700Z"
    }
   },
   "id": "c50284084c9d1ecf"
  },
  {
   "cell_type": "markdown",
   "source": [
    "## Method 1: Intensity weighted centroid"
   ],
   "metadata": {
    "collapsed": false
   },
   "id": "cdb877e7c32f22bf"
  },
  {
   "cell_type": "code",
   "execution_count": null,
   "outputs": [],
   "source": [
    "from ROI.intensity_weighted_centroid import IntensityWeightedCentroid\n",
    "\n",
    "iwc = IntensityWeightedCentroid(\n",
    "    512, 512, channel=-1, equalize=True, clahe=True, square=True,\n",
    "    dampening='circular', k_size=65, quantile=0.9,\n",
    ")\n",
    "iwc.show(img)"
   ],
   "metadata": {
    "collapsed": false
   },
   "id": "ca30f24fc0e10bce"
  },
  {
   "cell_type": "code",
   "execution_count": null,
   "outputs": [],
   "source": [
    "iwc.generate_dataset(\n",
    "    src_images_dir=DATA_DIR + '/Images_Padded',\n",
    "    src_masks_dir=DATA_DIR + '/Masks_Padded',\n",
    "    dst_images_dir=DATA_DIR + '/Images_IntensityWeightedCentroid_Cropped',\n",
    "    dst_masks_dir=DATA_DIR + '/Masks_IntensityWeightedCentroid_Cropped',\n",
    ")"
   ],
   "metadata": {
    "collapsed": false
   },
   "id": "16ccc80a77fd3a46"
  },
  {
   "cell_type": "markdown",
   "source": [
    "## Method 2: Brightest spot algorithm"
   ],
   "metadata": {
    "collapsed": false
   },
   "id": "1127a8dd84e111cc"
  },
  {
   "cell_type": "code",
   "execution_count": null,
   "outputs": [],
   "source": [
    "from ROI.brightest_spot import BrightestSpot\n",
    "\n",
    "bs = BrightestSpot(512, 512, channel=-1, dampening='circular', k_size=65)\n",
    "bs.show(img)"
   ],
   "metadata": {
    "collapsed": false
   },
   "id": "3b7293526288bfc9"
  },
  {
   "cell_type": "code",
   "execution_count": null,
   "outputs": [],
   "source": [
    "bs.generate_dataset(\n",
    "    src_images_dir=DATA_DIR + '/Images_Padded',\n",
    "    src_masks_dir=DATA_DIR + '/Masks_Padded',\n",
    "    dst_images_dir=DATA_DIR + '/Images_BrightestSpot_Cropped',\n",
    "    dst_masks_dir=DATA_DIR + '/Masks_BrightestSpot_Cropped',\n",
    ")"
   ],
   "metadata": {
    "collapsed": false
   },
   "id": "35d4328302bc52e8"
  },
  {
   "cell_type": "markdown",
   "source": [
    "## Method 3: Thresholding channel"
   ],
   "metadata": {
    "collapsed": false
   },
   "id": "5aa3f68ca6e3e0d1"
  },
  {
   "cell_type": "code",
   "execution_count": null,
   "outputs": [],
   "source": [
    "from ROI.thresholding import Thresholding\n",
    "\n",
    "th = Thresholding(margin=50, channel=2, crop_size=250, k_size=35)\n",
    "th.show(img)"
   ],
   "metadata": {
    "collapsed": false
   },
   "id": "8f06972afda92a17"
  },
  {
   "cell_type": "code",
   "execution_count": null,
   "outputs": [],
   "source": [
    "th.generate_dataset(\n",
    "    src_images_dir=DATA_DIR + '/Images_Padded',\n",
    "    src_masks_dir=DATA_DIR + '/Masks_Padded',\n",
    "    dst_images_dir=DATA_DIR + '/Images_Threshold_Cropped',\n",
    "    dst_masks_dir=DATA_DIR + '/Masks_Threshold_Cropped',\n",
    ")"
   ],
   "metadata": {
    "collapsed": false
   },
   "id": "33ff9c65507cdc69"
  },
  {
   "cell_type": "markdown",
   "source": [
    "## Method 4: Template Matching"
   ],
   "metadata": {
    "collapsed": false
   },
   "id": "66654afe379feac5"
  },
  {
   "cell_type": "code",
   "execution_count": 3,
   "outputs": [],
   "source": [
    "from ROI.template_matching import TemplateMatching, get_templates\n",
    "\n",
    "templates = get_templates('../data/ORIGA/Images')"
   ],
   "metadata": {
    "collapsed": false,
    "ExecuteTime": {
     "end_time": "2023-10-21T18:49:37.217375100Z",
     "start_time": "2023-10-21T18:49:33.900016100Z"
    }
   },
   "id": "33bd149256e69685"
  },
  {
   "cell_type": "code",
   "execution_count": null,
   "outputs": [],
   "source": [
    "tm = TemplateMatching(\n",
    "    templates,\n",
    "    margin_x=60, margin_y=60,\n",
    "    shape=(512, 512),\n",
    "    scale=0.1,\n",
    "    min_confidence=0.6,\n",
    "    reduce='join',\n",
    ")\n",
    "tm.show(img)"
   ],
   "metadata": {
    "collapsed": false
   },
   "id": "5ae5b9e19017be26"
  },
  {
   "cell_type": "code",
   "execution_count": null,
   "outputs": [],
   "source": [
    "tm.generate_dataset(\n",
    "    src_images_dir=DATA_DIR + '/Images_Padded',\n",
    "    src_masks_dir=DATA_DIR + '/Masks_Padded',\n",
    "    dst_images_dir=DATA_DIR + '/Images_TemplateMatching_Cropped',\n",
    "    dst_masks_dir=DATA_DIR + '/Masks_TemplateMatching_Cropped',\n",
    ")"
   ],
   "metadata": {
    "collapsed": false
   },
   "id": "cfa14087a6237091"
  },
  {
   "cell_type": "code",
   "execution_count": null,
   "outputs": [],
   "source": [],
   "metadata": {
    "collapsed": false
   },
   "id": "51a50640fa9d8325"
  }
 ],
 "metadata": {
  "kernelspec": {
   "display_name": "Python 3",
   "language": "python",
   "name": "python3"
  },
  "language_info": {
   "codemirror_mode": {
    "name": "ipython",
    "version": 2
   },
   "file_extension": ".py",
   "mimetype": "text/x-python",
   "name": "python",
   "nbconvert_exporter": "python",
   "pygments_lexer": "ipython2",
   "version": "2.7.6"
  }
 },
 "nbformat": 4,
 "nbformat_minor": 5
}
