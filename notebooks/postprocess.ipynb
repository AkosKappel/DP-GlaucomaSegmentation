{
 "cells": [
  {
   "cell_type": "code",
   "execution_count": null,
   "outputs": [],
   "source": [
    "import albumentations as A\n",
    "from albumentations.pytorch import ToTensorV2\n",
    "import cv2 as cv\n",
    "from functools import partial\n",
    "import matplotlib.pyplot as plt\n",
    "import numpy as np\n",
    "import torch\n",
    "import torch.optim as optim\n",
    "\n",
    "from networks import *\n",
    "from training import *\n",
    "from modules import *"
   ],
   "metadata": {
    "collapsed": false
   },
   "id": "dca1621241e48b80"
  },
  {
   "cell_type": "code",
   "execution_count": null,
   "outputs": [],
   "source": [
    "IMAGE_DIR = '../data/ORIGA/Images_CenterNet_Cropped'\n",
    "MASK_DIR = '../data/ORIGA/Masks_CenterNet_Cropped'\n",
    "LOGS_DIR = '../logs/'\n",
    "CHECKPOINT_DIR = '../checkpoints/'\n",
    "\n",
    "NETWORK_NAME = 'refunet3+cbam'  # raunet++, refunet3+cbam, swinunet\n",
    "OPTIMIZER = 'adam'\n",
    "LOSS_FUNCTION = 'combo'\n",
    "ARCHITECTURE = 'binary'  # multiclass, multilabel, binary, dual, cascade\n",
    "BINARY_TARGET_CLASSES = [1, 2]\n",
    "SCHEDULER = 'plateau'\n",
    "SCALER = 'none'\n",
    "DATASET = 'ORIGA'\n",
    "BASE_CASCADE_MODEL = ''\n",
    "\n",
    "IMAGE_HEIGHT, IMAGE_WIDTH = 128, 128\n",
    "IN_CHANNELS, OUT_CHANNELS = 3, 1\n",
    "LEARNING_RATE = 1e-4\n",
    "BATCH_SIZE = 4\n",
    "EPOCHS = 5\n",
    "LAYERS = [16, 32, 48, 64, 80]\n",
    "CLASS_WEIGHTS = None\n",
    "SET_SIZES = [0.8, 0.1, 0.1]\n",
    "DROPOUT_2D = 0.2\n",
    "EARLY_STOPPING_PATIENCE = 11\n",
    "LOG_INTERVAL = 5\n",
    "SAVE_INTERVAL = 10\n",
    "NUM_WORKERS = 0\n",
    "\n",
    "USE_WANDB = False\n",
    "POLAR_TRANSFORM = True\n",
    "MULTI_SCALE_INPUT = False\n",
    "DEEP_SUPERVISION = False\n",
    "\n",
    "DEVICE = torch.device('cuda' if torch.cuda.is_available() else 'cpu')\n",
    "PIN_MEMORY = True if DEVICE == 'cuda' else False\n",
    "\n",
    "polar_transform_partial = partial(polar_transform, radius_ratio=1.0)\n",
    "\n",
    "train_transform = A.Compose([\n",
    "    A.Resize(height=IMAGE_HEIGHT, width=IMAGE_WIDTH, interpolation=cv.INTER_AREA),\n",
    "    A.HorizontalFlip(p=0.5),\n",
    "    A.VerticalFlip(p=0.5),\n",
    "    A.RandomRotate90(p=1.0),\n",
    "    A.CLAHE(p=1.0, clip_limit=2.0, tile_grid_size=(8, 8), always_apply=True),\n",
    "    A.RandomBrightnessContrast(p=0.5),\n",
    "    A.Lambda(image=polar_transform_partial, mask=polar_transform_partial) if POLAR_TRANSFORM else A.Lambda(),\n",
    "    ToTensorV2(),\n",
    "])\n",
    "\n",
    "val_transform = A.Compose([\n",
    "    A.Resize(height=IMAGE_HEIGHT, width=IMAGE_WIDTH, interpolation=cv.INTER_AREA),\n",
    "    A.CLAHE(p=1.0, clip_limit=2.0, tile_grid_size=(8, 8), always_apply=True),\n",
    "    A.Lambda(image=polar_transform_partial, mask=polar_transform_partial) if POLAR_TRANSFORM else A.Lambda(),\n",
    "    ToTensorV2(),\n",
    "])\n",
    "\n",
    "train_loader, val_loader, test_loader = load_dataset(\n",
    "    IMAGE_DIR, MASK_DIR, None, None, *SET_SIZES,\n",
    "    train_transform, val_transform, val_transform, BATCH_SIZE, PIN_MEMORY, NUM_WORKERS,\n",
    ")"
   ],
   "metadata": {
    "collapsed": false
   },
   "id": "9027dd7329c931f0"
  },
  {
   "cell_type": "code",
   "execution_count": null,
   "outputs": [],
   "source": [
    "model = RefUnet3PlusCBAM(3, 1, LAYERS).to(DEVICE)\n",
    "optimizer = optim.Adam(model.parameters(), lr=LEARNING_RATE)\n",
    "criterion = DiceLoss(1)\n",
    "\n",
    "trainer = MultilabelTrainer(model, criterion, optimizer, DEVICE)\n",
    "trainer.train_one_epoch(train_loader)"
   ],
   "metadata": {
    "collapsed": false
   },
   "id": "bd776b63159f59d4"
  },
  {
   "cell_type": "markdown",
   "source": [
    "## Apply CRF post-processing"
   ],
   "metadata": {
    "collapsed": false
   },
   "id": "f3939677b3ea57ff"
  },
  {
   "cell_type": "code",
   "execution_count": null,
   "outputs": [],
   "source": [
    "images, masks = next(iter(test_loader))\n",
    "images = images.float().to(DEVICE)\n",
    "masks = masks.long().to(DEVICE)\n",
    "\n",
    "outputs = model(images)\n",
    "probs = torch.softmax(outputs, dim=1)\n",
    "preds = torch.argmax(probs, dim=1)\n",
    "\n",
    "images = images.detach().cpu().numpy().transpose(0, 2, 3, 1) / 255\n",
    "masks = masks.detach().cpu().numpy()\n",
    "preds = preds.detach().cpu().numpy()\n",
    "probs = probs.detach().cpu().numpy()\n",
    "\n",
    "idx = 0\n",
    "image, mask, pred, prob = images[idx], masks[idx], preds[idx], probs[idx]\n",
    "\n",
    "print(f'{image.shape = }')\n",
    "print(f'{mask.shape = }')\n",
    "print(f'{pred.shape = }')\n",
    "print(f'{prob.shape = }')\n",
    "\n",
    "pred_crf = dense_crf(image, prob)\n",
    "\n",
    "m1 = get_metrics(mask, pred, [[1, 2], [2]])\n",
    "m2 = get_metrics(mask, pred_crf, [[1, 2], [2]])\n",
    "\n",
    "print('Before CRF:', m1['dice_OC'], m1['dice_OD'])\n",
    "print('After CRF:', m2['dice_OC'], m2['dice_OD'])\n",
    "print('Improvement:', m2['dice_OC'] - m1['dice_OC'], m2['dice_OD'] - m1['dice_OD'])\n",
    "\n",
    "_, ax = plt.subplots(1, 4, figsize=(12, 4))\n",
    "ax[0].imshow(image)\n",
    "ax[1].imshow(mask)\n",
    "ax[2].imshow(pred)\n",
    "ax[3].imshow(pred_crf)\n",
    "plt.tight_layout()\n",
    "plt.show()"
   ],
   "metadata": {
    "collapsed": false
   },
   "id": "initial_id"
  },
  {
   "cell_type": "code",
   "execution_count": null,
   "outputs": [],
   "source": [],
   "metadata": {
    "collapsed": false
   },
   "id": "965c209a273f1b01"
  },
  {
   "cell_type": "markdown",
   "source": [
    "## Work in progress"
   ],
   "metadata": {
    "collapsed": false
   },
   "id": "c2e4139df35602a9"
  },
  {
   "cell_type": "code",
   "execution_count": null,
   "outputs": [],
   "source": [
    "images, masks = next(iter(test_loader))\n",
    "images = images.float().to(DEVICE)\n",
    "masks = masks.long().to(DEVICE)\n",
    "\n",
    "outputs = model(images)\n",
    "probs = torch.softmax(outputs, dim=1)\n",
    "preds = torch.argmax(probs, dim=1)\n",
    "\n",
    "met1 = get_metrics(masks, preds, [[1, 2], [2]])\n",
    "\n",
    "images, masks, preds = undo_polar_transform(images, masks, preds)\n",
    "\n",
    "met2 = get_metrics(masks, preds, [[1, 2], [2]])\n",
    "\n",
    "images = images.detach().cpu().numpy().transpose(0, 2, 3, 1) / 255\n",
    "masks = masks.detach().cpu().numpy()\n",
    "preds = preds.detach().cpu().numpy()\n",
    "\n",
    "fig, ax = plt.subplots(4, 3, figsize=(8, 12))\n",
    "ax = ax.ravel()\n",
    "for i in range(4):\n",
    "    ax[3 * i].imshow(images[i])\n",
    "    ax[3 * i + 1].imshow(masks[i])\n",
    "    ax[3 * i + 2].imshow(preds[i])\n",
    "plt.tight_layout()\n",
    "plt.show()\n",
    "\n",
    "{k: (met1[k], met2[k]) for k in met1.keys()}"
   ],
   "metadata": {
    "collapsed": false
   },
   "id": "1b2c82de247be056"
  },
  {
   "cell_type": "code",
   "execution_count": null,
   "outputs": [],
   "source": [],
   "metadata": {
    "collapsed": false
   },
   "id": "a1be86b0c9b2948c"
  },
  {
   "cell_type": "code",
   "execution_count": null,
   "outputs": [],
   "source": [
    "# torch.save(model.state_dict(), CHECKPOINT_DIR + 'model.pth')\n",
    "\n",
    "checkpoint = torch.load(CHECKPOINT_DIR + 'multiclass-unet-model.pth')\n",
    "model = RefUnet3PlusCBAM(3, 3, LAYERS).to(DEVICE)\n",
    "# model = DualUnet(3, 1, LAYERS).to(DEVICE)\n",
    "criterion = DiceLoss(3)\n",
    "model.load_state_dict(checkpoint)\n",
    "\n",
    "# binary_model = Unet(3, 1, LAYERS).to(DEVICE)\n",
    "# checkpoint = torch.load(CHECKPOINT_DIR + 'binary-model.pth')\n",
    "# binary_model.load_state_dict(checkpoint)"
   ],
   "metadata": {
    "collapsed": false
   },
   "id": "f061b28633a39df0"
  },
  {
   "cell_type": "code",
   "execution_count": null,
   "outputs": [],
   "source": [
    "# Non-ellipse: 5, 12\n",
    "# Holes: 0, 20\n",
    "\n",
    "target_batch = 12\n",
    "\n",
    "for batch_idx, (images, masks) in enumerate(test_loader):\n",
    "    if batch_idx != target_batch:\n",
    "        continue\n",
    "    images = images.float().to(DEVICE)\n",
    "    masks = masks.long().to(DEVICE)\n",
    "\n",
    "    outputs = model(images)\n",
    "    probs = torch.softmax(outputs, dim=1)\n",
    "    preds = torch.argmax(probs, dim=1)\n",
    "\n",
    "    met = get_metrics(masks, preds, [[1, 2], [2]])\n",
    "\n",
    "    images = images.detach().cpu().numpy().transpose(0, 2, 3, 1) / 255\n",
    "    masks = masks.detach().cpu().numpy()\n",
    "    preds = preds.detach().cpu().numpy()\n",
    "\n",
    "    print(f'Batch {batch_idx} metrics: {met}')\n",
    "\n",
    "    # Plot results\n",
    "    fig, ax = plt.subplots(4, 3, figsize=(8, 12))\n",
    "    ax = ax.ravel()\n",
    "    for i in range(4):\n",
    "        ax[3 * i].imshow(images[i])\n",
    "        ax[3 * i + 1].imshow(masks[i])\n",
    "        ax[3 * i + 2].imshow(preds[i])\n",
    "    plt.tight_layout()\n",
    "    plt.show()\n",
    "\n",
    "    break"
   ],
   "metadata": {
    "collapsed": false
   },
   "id": "12f546a0e28b30dc"
  },
  {
   "cell_type": "code",
   "execution_count": null,
   "outputs": [],
   "source": [
    "idx = 1\n",
    "\n",
    "image = images[idx]\n",
    "mask = masks[idx]\n",
    "pred = preds[idx]\n",
    "\n",
    "mask_od, mask_oc = separate_disc_and_cup_mask(mask)\n",
    "pred_od, pred_oc = separate_disc_and_cup_mask(pred)\n",
    "\n",
    "# plot image, OD mask and OC mask\n",
    "fig, ax = plt.subplots(1, 3, figsize=(12, 4))\n",
    "ax = ax.ravel()\n",
    "ax[0].imshow(image)\n",
    "ax[1].imshow(pred_od)\n",
    "ax[2].imshow(pred_oc)\n",
    "plt.tight_layout()\n",
    "plt.show()\n",
    "\n",
    "get_metrics(mask_oc, pred_oc, [[1, 2]])"
   ],
   "metadata": {
    "collapsed": false
   },
   "id": "83e13880aad2dcda"
  },
  {
   "cell_type": "code",
   "execution_count": null,
   "outputs": [],
   "source": [
    "mask1 = apply_largest_component_selection(pred)\n",
    "mask2 = apply_hole_filling(pred)\n",
    "mask3 = apply_largest_component_selection(apply_hole_filling(pred))\n",
    "mask4 = apply_hole_filling(apply_largest_component_selection(pred))\n",
    "mask5 = apply_ellipse_fitting(pred)\n",
    "\n",
    "# Plot results\n",
    "_, ax = plt.subplots(2, 4, figsize=(12, 7))\n",
    "ax = ax.ravel()\n",
    "for a in ax:\n",
    "    a.axis('off')\n",
    "\n",
    "ax[0].set_title('Image')\n",
    "ax[0].imshow(image)\n",
    "ax[1].set_title('Ground truth')\n",
    "ax[1].imshow(mask)\n",
    "ax[2].set_title('Prediction')\n",
    "ax[2].imshow(pred)\n",
    "ax[3].set_title('Largest component')\n",
    "ax[3].imshow(mask1)\n",
    "ax[4].set_title('Hole filling')\n",
    "ax[4].imshow(mask2)\n",
    "ax[5].set_title('Largest + hole')\n",
    "ax[5].imshow(mask3)\n",
    "ax[6].set_title('Hole + largest')\n",
    "ax[6].imshow(mask4)\n",
    "ax[7].set_title('Ellipse fitting')\n",
    "ax[7].imshow(mask5)\n",
    "\n",
    "plt.tight_layout()\n",
    "plt.show()"
   ],
   "metadata": {
    "collapsed": false
   },
   "id": "b247ba0aa9b173a2"
  },
  {
   "cell_type": "code",
   "execution_count": null,
   "outputs": [],
   "source": [
    "smoothed_od_mask = smooth_contours(pred_od)\n",
    "smoothed_oc_mask = smooth_contours(pred_oc)\n",
    "smoothed_mask = smoothed_od_mask + smoothed_oc_mask\n",
    "\n",
    "# Plot results\n",
    "_, ax = plt.subplots(1, 4, figsize=(12, 5))\n",
    "ax[0].imshow(image)\n",
    "ax[1].imshow(pred)\n",
    "ax[2].imshow(smoothed_od_mask)\n",
    "ax[3].imshow(smoothed_oc_mask)\n",
    "plt.tight_layout()\n",
    "plt.show()\n",
    "\n",
    "\n",
    "def on_trackbar(s):\n",
    "    s = s / 10\n",
    "    smoothed_mask = smooth_contours(pred_oc, s)\n",
    "\n",
    "    m = get_metrics(mask_oc, smoothed_mask, [[1, 2]])\n",
    "    print(m['dice_OD'])\n",
    "\n",
    "    # Display the original and smoothed masks side by side\n",
    "    side_by_side = np.hstack((mask_oc * 255, pred_oc * 255, smoothed_mask * 255))\n",
    "    cv.imshow('Contour Smoothing', side_by_side)\n",
    "\n",
    "\n",
    "cv.namedWindow('Contour Smoothing')\n",
    "cv.createTrackbar('S Parameter', 'Contour Smoothing', 5, 100, on_trackbar)\n",
    "initial_s = 1.0\n",
    "on_trackbar(initial_s)\n",
    "\n",
    "cv.waitKey(0)\n",
    "cv.destroyAllWindows()"
   ],
   "metadata": {
    "collapsed": false
   },
   "id": "ee5e514d9fdf738f"
  },
  {
   "cell_type": "code",
   "execution_count": null,
   "outputs": [],
   "source": [
    "snake_img = snakes(pred_oc)\n",
    "\n",
    "# Plot results\n",
    "fig, ax = plt.subplots(1, 4, figsize=(12, 5))\n",
    "ax[0].imshow(image)\n",
    "ax[1].imshow(mask_oc)\n",
    "ax[2].imshow(pred_oc)\n",
    "ax[3].imshow(snake_img)\n",
    "plt.tight_layout()\n",
    "plt.show()\n",
    "\n",
    "\n",
    "def on_trackbar(a, b, c):\n",
    "    a = a / 10\n",
    "    b = b / 10\n",
    "    c = c / 10\n",
    "\n",
    "    snake_mask = snakes(pred_oc, a, b, c)\n",
    "\n",
    "    m = get_metrics(mask_oc, snake_mask, [[1, 2]])\n",
    "    print(m['dice_OD'])\n",
    "\n",
    "    # Display the original and smoothed masks side by side\n",
    "    side_by_side = np.hstack((mask_oc * 255, pred_oc * 255, snake_mask * 255))\n",
    "    cv.imshow('Snake', side_by_side)\n",
    "\n",
    "\n",
    "def on_trackbar1(a):\n",
    "    global initial_alpha\n",
    "    initial_alpha = a\n",
    "    on_trackbar(initial_alpha, initial_beta, initial_gamma)\n",
    "\n",
    "\n",
    "def on_trackbar2(b):\n",
    "    global initial_beta\n",
    "    initial_beta = b\n",
    "    on_trackbar(initial_alpha, initial_beta, initial_gamma)\n",
    "\n",
    "\n",
    "def on_trackbar3(c):\n",
    "    global initial_gamma\n",
    "    initial_gamma = c\n",
    "    on_trackbar(initial_alpha, initial_beta, initial_gamma)\n",
    "\n",
    "\n",
    "initial_alpha = 0.1\n",
    "initial_beta = 2.0\n",
    "initial_gamma = 5.0\n",
    "\n",
    "cv.namedWindow('Snake')\n",
    "cv.createTrackbar('alpha', 'Snake', 1, 50, on_trackbar1)\n",
    "cv.createTrackbar('beta', 'Snake', 20, 50, on_trackbar2)\n",
    "cv.createTrackbar('gamma', 'Snake', 50, 100, on_trackbar3)\n",
    "on_trackbar(initial_alpha, initial_beta, initial_gamma)\n",
    "\n",
    "cv.waitKey(0)\n",
    "cv.destroyAllWindows()"
   ],
   "metadata": {
    "collapsed": false
   },
   "id": "c6ed80fe18d9cd2b"
  },
  {
   "cell_type": "code",
   "execution_count": null,
   "outputs": [],
   "source": [],
   "metadata": {
    "collapsed": false
   },
   "id": "413f5ebf7c8ea6e4"
  },
  {
   "cell_type": "markdown",
   "source": [
    "## Contour detection method"
   ],
   "metadata": {
    "collapsed": false
   },
   "id": "770fa471cee2ea2c"
  },
  {
   "cell_type": "code",
   "execution_count": null,
   "outputs": [],
   "source": [
    "from skimage import segmentation\n",
    "from scipy.ndimage import distance_transform_edt\n",
    "\n",
    "images, masks = next(iter(val_loader))\n",
    "images = images.float().to(DEVICE)\n",
    "masks = masks.long().to(DEVICE)\n",
    "\n",
    "image = images[0].cpu().numpy().transpose(1, 2, 0) / 255.0\n",
    "mask = masks[0].cpu().numpy()\n",
    "prediction = np.zeros_like(mask)\n",
    "prediction[16:112, 16:112] = 1\n",
    "prediction[32:96, 32:96] = 2\n",
    "\n",
    "boundaries = segmentation.find_boundaries(mask, mode='inner').astype(np.uint8)\n",
    "marked = image.copy()\n",
    "marked[boundaries == 1] = [0, 0, 0]\n",
    "dist_map = distance_transform_edt(1 - boundaries)\n",
    "dist_map = dist_map / dist_map.max()\n",
    "\n",
    "_, ax = plt.subplots(2, 4, figsize=(15, 7))\n",
    "ax[0, 0].imshow(mask)\n",
    "ax[0, 1].imshow(boundaries)\n",
    "ax[0, 2].imshow(dist_map)\n",
    "ax[0, 3].imshow(dist_map.max() - dist_map)\n",
    "ax[1, 0].imshow(prediction)\n",
    "ax[1, 1].imshow(marked)\n",
    "plt.show()"
   ],
   "metadata": {
    "collapsed": false
   },
   "id": "8f6f79ba4e34aa82"
  },
  {
   "cell_type": "code",
   "execution_count": null,
   "outputs": [],
   "source": [
    "model = RefUnet3PlusCBAM(in_channels=3, out_channels=1).to(DEVICE)\n",
    "loss = DiceLoss(num_classes=1)\n",
    "optimizer = optim.Adam(model.parameters(), lr=LEARNING_RATE)\n",
    "\n",
    "for epoch in range(5):\n",
    "    acc_loss = 0\n",
    "    for images, masks in val_loader:\n",
    "\n",
    "        edge_masks = np.zeros((masks.shape[0], masks.shape[1], masks.shape[2]))\n",
    "        for b in range(masks.shape[0]):\n",
    "            mask = masks[b].cpu().numpy()\n",
    "            boundaries = segmentation.find_boundaries(mask, mode='thick').astype(np.uint8)\n",
    "            edge_masks[b] = boundaries\n",
    "        masks = torch.from_numpy(edge_masks)\n",
    "\n",
    "        images = images.float().to(DEVICE)\n",
    "        masks = masks.long().to(DEVICE)\n",
    "\n",
    "        outputs = model(images)\n",
    "        loss_value = loss(outputs, masks)\n",
    "        acc_loss += loss_value.item()\n",
    "\n",
    "        optimizer.zero_grad()\n",
    "        loss_value.backward()\n",
    "        optimizer.step()\n",
    "\n",
    "    # plot example\n",
    "    images = images.cpu().numpy()\n",
    "    masks = masks.cpu().numpy()\n",
    "    # probs = F.softmax(outputs, dim=1)\n",
    "    # preds = torch.argmax(probs, dim=1).cpu().numpy()\n",
    "    probs = torch.sigmoid(outputs)\n",
    "    preds = (probs > 0.5).float().cpu().numpy().transpose(0, 2, 3, 1)\n",
    "\n",
    "    fig, ax = plt.subplots(1, 3, figsize=(15, 5))\n",
    "    ax[0].imshow(images[0].transpose(1, 2, 0) / 255.0)\n",
    "    ax[1].imshow(masks[0])\n",
    "    ax[2].imshow(preds[0])\n",
    "    plt.show()\n",
    "\n",
    "    print(f'Epoch {epoch + 1} loss:', acc_loss / len(val_loader))\n"
   ],
   "metadata": {
    "collapsed": false
   },
   "id": "a7f769d8bd0dad21"
  },
  {
   "cell_type": "code",
   "execution_count": null,
   "outputs": [],
   "source": [],
   "metadata": {
    "collapsed": false
   },
   "id": "38e56cc4789ab9b9"
  },
  {
   "cell_type": "code",
   "execution_count": null,
   "outputs": [],
   "source": [],
   "metadata": {
    "collapsed": false
   },
   "id": "adf12bbebfff7797"
  }
 ],
 "metadata": {
  "kernelspec": {
   "display_name": "Python 3",
   "language": "python",
   "name": "python3"
  },
  "language_info": {
   "codemirror_mode": {
    "name": "ipython",
    "version": 2
   },
   "file_extension": ".py",
   "mimetype": "text/x-python",
   "name": "python",
   "nbconvert_exporter": "python",
   "pygments_lexer": "ipython2",
   "version": "2.7.6"
  }
 },
 "nbformat": 4,
 "nbformat_minor": 5
}
